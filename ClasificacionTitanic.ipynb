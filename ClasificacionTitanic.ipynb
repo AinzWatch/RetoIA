{
  "nbformat": 4,
  "nbformat_minor": 0,
  "metadata": {
    "colab": {
      "provenance": []
    },
    "kernelspec": {
      "name": "python3",
      "display_name": "Python 3"
    },
    "language_info": {
      "name": "python"
    }
  },
  "cells": [
    {
      "cell_type": "code",
      "execution_count": 134,
      "metadata": {
        "colab": {
          "base_uri": "https://localhost:8080/"
        },
        "id": "1fZUTuytUJFw",
        "outputId": "77bd3257-2165-4c8e-ec9e-9e6a79e15d7b"
      },
      "outputs": [
        {
          "output_type": "stream",
          "name": "stdout",
          "text": [
            "       PassengerId    Survived      Pclass         Age       SibSp  \\\n",
            "count   891.000000  891.000000  891.000000  714.000000  891.000000   \n",
            "mean    446.000000    0.383838    2.308642   29.699118    0.523008   \n",
            "std     257.353842    0.486592    0.836071   14.526497    1.102743   \n",
            "min       1.000000    0.000000    1.000000    0.420000    0.000000   \n",
            "25%     223.500000    0.000000    2.000000   20.125000    0.000000   \n",
            "50%     446.000000    0.000000    3.000000   28.000000    0.000000   \n",
            "75%     668.500000    1.000000    3.000000   38.000000    1.000000   \n",
            "max     891.000000    1.000000    3.000000   80.000000    8.000000   \n",
            "\n",
            "            Parch        Fare  \n",
            "count  891.000000  891.000000  \n",
            "mean     0.381594   32.204208  \n",
            "std      0.806057   49.693429  \n",
            "min      0.000000    0.000000  \n",
            "25%      0.000000    7.910400  \n",
            "50%      0.000000   14.454200  \n",
            "75%      0.000000   31.000000  \n",
            "max      6.000000  512.329200  \n",
            "Valores faltantes por columna:\n",
            "PassengerId      0\n",
            "Survived         0\n",
            "Pclass           0\n",
            "Name             0\n",
            "Sex              0\n",
            "Age            177\n",
            "SibSp            0\n",
            "Parch            0\n",
            "Ticket           0\n",
            "Fare             0\n",
            "Cabin          687\n",
            "Embarked         2\n",
            "dtype: int64\n",
            "   PassengerId  Survived  Pclass  \\\n",
            "0            1         0       3   \n",
            "1            2         1       1   \n",
            "2            3         1       3   \n",
            "3            4         1       1   \n",
            "4            5         0       3   \n",
            "5            7         0       1   \n",
            "\n",
            "                                                Name     Sex   Age  SibSp  \\\n",
            "0                            Braund, Mr. Owen Harris    male  22.0      1   \n",
            "1  Cumings, Mrs. John Bradley (Florence Briggs Th...  female  38.0      1   \n",
            "2                             Heikkinen, Miss. Laina  female  26.0      0   \n",
            "3       Futrelle, Mrs. Jacques Heath (Lily May Peel)  female  35.0      1   \n",
            "4                           Allen, Mr. William Henry    male  35.0      0   \n",
            "5                            McCarthy, Mr. Timothy J    male  54.0      0   \n",
            "\n",
            "   Parch            Ticket     Fare Cabin Embarked  \n",
            "0      0         A/5 21171   7.2500   NaN        S  \n",
            "1      0          PC 17599  71.2833   C85        C  \n",
            "2      0  STON/O2. 3101282   7.9250   NaN        S  \n",
            "3      0            113803  53.1000  C123        S  \n",
            "4      0            373450   8.0500   NaN        S  \n",
            "5      0             17463  51.8625   E46        S  \n"
          ]
        }
      ],
      "source": [
        "import pandas as pd\n",
        "import matplotlib.pyplot as plt\n",
        "import math\n",
        "import numpy as np\n",
        "\n",
        "oTrainData = pd.read_csv('/content/train.csv')\n",
        "#Limpiamos espacios de columnas\n",
        "#oTrainData = oTrainData.str.replace(' ', '')\n",
        "#oTrainData['Age'] = pd.to_numeric(oTrainData['Age'])\n",
        "#oTrainData[['PassengerId', 'Survived', 'Pclass',  'Age', 'SibSp', 'Parch',  'Fare']] = oTrainData[['PassengerId', 'Survived', 'Pclass',  'Age', 'SibSp', 'Parch',  'Fare']].apply(pd.to_numeric)\n",
        "#oTrainData[['Name', 'Sex', 'Ticket', 'Cabin', 'Embarked']] = oTrainData[['Name', 'Sex', 'Ticket', 'Cabin', 'Embarked']].astype(str)\n",
        "print(oTrainData.describe())\n",
        "\n",
        "#print( oTrainData.isnull())\n",
        "oMissingValues = oTrainData.isnull().sum()\n",
        "print(\"Valores faltantes por columna:\")\n",
        "print(oMissingValues)\n",
        "\n",
        "\n",
        "oCleanData = oTrainData[~oTrainData['Age'].isnull()]\n",
        "oCleanData.index = range(len(oCleanData))\n",
        "#oCleanData['Survived'] = oCleanData['Survived'].map({'female': 1, 'male': 0})\n",
        "print(oCleanData[0:6])"
      ]
    },
    {
      "cell_type": "code",
      "source": [
        "# Crear lista con los hiper-parámetros iniciales (thetas)\n",
        "fTeta0 = -5\n",
        "fTeta1 = 1\n",
        "iContador = 0\n",
        "iN = len(oCleanData)\n",
        "# Cargar el valor del learning rate (alpha)\n",
        "fAlpha = 0.01\n",
        "fValorBuscado = 35\n",
        "print(f\"Valor Buscado: {fValorBuscado}\")\n",
        "\n",
        "oH0Lambda = lambda teta0, teta1, x: teta0 + (teta1 * x)\n",
        "oSigimoide = lambda teta0, teta1, x:  1 / (1 + math.exp( - oH0Lambda(fTeta0, fTeta1, x) ) )\n",
        "\n",
        "while iContador < 50:\n",
        "\n",
        "  # Crear función lambda para la función de hipótesis\n",
        "  # Calcular el total de muestras a partir de los datos (n)\n",
        "  oH0 = []\n",
        "  iH0Total = 0\n",
        "  for x in oCleanData[\"Age\"]: oH0.append(oSigimoide(fTeta0, fTeta1, x) )  # Funcion Sigimoide\n",
        "  iH0Total = sum(oH0)\n",
        "  #print(oH0) # Nuestra lista de HTeta\n",
        "\n",
        "  # Calcular delta para theta0 y para cada muestra\n",
        "  oDelta = []\n",
        "  iDeltaTotal = 0\n",
        "\n",
        "  i = 0\n",
        "  while(i < iN):\n",
        "\n",
        "    oDelta.append( oH0[i] - oCleanData[\"Survived\"][i]  )\n",
        "    i += 1\n",
        "\n",
        "  iDeltaTotal = sum(oDelta)\n",
        "\n",
        "  # Calcular delta para theta1 y para cada muestra\n",
        "\n",
        "  oDeltaX = []\n",
        "  iDeltaXTotal = 0\n",
        "  i = 0\n",
        "\n",
        "  while(i < iN):\n",
        "    oDeltaX.append( oDelta[i] * oCleanData[\"Age\"][i]  )\n",
        "    i += 1\n",
        "\n",
        "  iDeltaXTotal = sum(oDeltaX)\n",
        "  #print(oDeltaX)\n",
        "\n",
        "  fTeta0 = fTeta0 - ((fAlpha/iN) * iDeltaTotal )\n",
        "\n",
        "  # Actualizar theta1\n",
        "  fTeta1 = fTeta1 - ((fAlpha/iN) * iDeltaXTotal )\n",
        "\n",
        "  fYm = 0\n",
        "  fYm = oSigimoide(fTeta0, fTeta1, fValorBuscado) #1/ (1+ math.exp( - oH0Lambda(fTeta0, fTeta1, fValorBuscado)))\n",
        "\n",
        "  #print(f\"Estimacion Teta0 Iteracion Num.{iContador}: \" + str(fTeta0))\n",
        "  #print(f\"Estimacion Teta1 Iteracion Num.{iContador}: \" + str(fTeta1))\n",
        "\n",
        "\n",
        "  iContador += 1\n",
        "print(\"Estimacion Ym: \" + str(fYm))\n",
        "\n"
      ],
      "metadata": {
        "colab": {
          "base_uri": "https://localhost:8080/"
        },
        "id": "6Nuibe2MUc3x",
        "outputId": "080f7d43-c553-432a-b5ad-01d7c8f0aed9"
      },
      "execution_count": 136,
      "outputs": [
        {
          "output_type": "stream",
          "name": "stdout",
          "text": [
            "Valor Buscado: 35\n",
            "Estimacion Ym: 0.3055351842659073\n"
          ]
        }
      ]
    },
    {
      "cell_type": "code",
      "source": [
        "#fValorBuscado = 10\n",
        "#fYm = oSigimoide(fTeta0, fTeta1, fValorBuscado)\n",
        "#print(\"Estimacion Ym: \" + str(fYm))\n",
        "\n",
        "oTestData = pd.read_csv('/content/test.csv')\n",
        "print(oTestData.columns)\n",
        "oTestData['Age'] = oTestData['Age'].fillna(0)\n",
        "#for x in oTestData[\"Age\"]: print(oTestData[\"Age\"]),print(oSigimoide(fTeta0, fTeta1, x) )\n",
        "\n",
        "iContador = 0\n",
        "data = []\n",
        "for x in oTestData[\"Age\"]:\n",
        "  data += [{ oTestData[\"PassengerId\"][iContador] ,round(oSigimoide(fTeta0, fTeta1, x),0) } ]\n",
        "\n",
        "  iContador+=1\n",
        "print(data)\n",
        "oPrediccion = pd.DataFrame(data,columns=['PassengerId', 'Survived' ])\n",
        "\n",
        "# pd.concat([df, pd.DataFrame([new_row])], ignore_index=True)\n",
        "\n",
        "print(oPrediccion)\n",
        "\n",
        "oPrediccion.to_csv('Result.csv', sep=',', index=False, encoding='utf-8')"
      ],
      "metadata": {
        "colab": {
          "base_uri": "https://localhost:8080/"
        },
        "id": "sefxMMZI7jEq",
        "outputId": "b1b9cca0-e103-4045-cc88-6224b5780b04"
      },
      "execution_count": 144,
      "outputs": [
        {
          "output_type": "stream",
          "name": "stdout",
          "text": [
            "Index(['PassengerId', 'Pclass', 'Name', 'Sex', 'Age', 'SibSp', 'Parch',\n",
            "       'Ticket', 'Fare', 'Cabin', 'Embarked'],\n",
            "      dtype='object')\n",
            "[{0.0, 892}, {1.0, 893}, {1.0, 894}, {0.0, 895}, {896, 0.0}, {0.0, 897}, {0.0, 898}, {0.0, 899}, {0.0, 900}, {0.0, 901}, {0.0, 902}, {1.0, 903}, {904, 0.0}, {905, 1.0}, {1.0, 906}, {0.0, 907}, {0.0, 908}, {0.0, 909}, {0.0, 910}, {1.0, 911}, {912, 1.0}, {0.0, 913}, {0.0, 914}, {0.0, 915}, {1.0, 916}, {1.0, 917}, {0.0, 918}, {0.0, 919}, {920, 0.0}, {0.0, 921}, {1.0, 922}, {0.0, 923}, {0.0, 924}, {0.0, 925}, {0.0, 926}, {0.0, 927}, {928, 0.0}, {0.0, 929}, {0.0, 930}, {0.0, 931}, {0.0, 932}, {0.0, 933}, {0.0, 934}, {0.0, 935}, {936, 1.0}, {0.0, 937}, {1.0, 938}, {0.0, 939}, {1.0, 940}, {0.0, 941}, {0.0, 942}, {0.0, 943}, {944, 0.0}, {0.0, 945}, {0.0, 946}, {0.0, 947}, {0.0, 948}, {0.0, 949}, {0.0, 950}, {0.0, 951}, {952, 0.0}, {0.0, 953}, {0.0, 954}, {0.0, 955}, {0.0, 956}, {0.0, 957}, {0.0, 958}, {1.0, 959}, {960, 0.0}, {961, 1.0}, {0.0, 962}, {0.0, 963}, {0.0, 964}, {0.0, 965}, {0.0, 966}, {0.0, 967}, {968, 0.0}, {969, 1.0}, {0.0, 970}, {0.0, 971}, {0.0, 972}, {1.0, 973}, {1.0, 974}, {0.0, 975}, {976, 0.0}, {0.0, 977}, {0.0, 978}, {0.0, 979}, {0.0, 980}, {0.0, 981}, {0.0, 982}, {0.0, 983}, {984, 0.0}, {0.0, 985}, {0.0, 986}, {0.0, 987}, {1.0, 988}, {0.0, 989}, {0.0, 990}, {0.0, 991}, {992, 1.0}, {0.0, 993}, {0.0, 994}, {0.0, 995}, {0.0, 996}, {0.0, 997}, {0.0, 998}, {0.0, 999}, {1000, 0.0}, {0.0, 1001}, {0.0, 1002}, {0.0, 1003}, {0.0, 1004}, {0.0, 1005}, {1.0, 1006}, {0.0, 1007}, {1008, 0.0}, {0.0, 1009}, {0.0, 1010}, {0.0, 1011}, {0.0, 1012}, {0.0, 1013}, {0.0, 1014}, {0.0, 1015}, {1016, 0.0}, {0.0, 1017}, {0.0, 1018}, {0.0, 1019}, {1.0, 1020}, {0.0, 1021}, {0.0, 1022}, {1.0, 1023}, {1024, 0.0}, {0.0, 1025}, {1.0, 1026}, {0.0, 1027}, {0.0, 1028}, {0.0, 1029}, {0.0, 1030}, {0.0, 1031}, {1032, 0.0}, {0.0, 1033}, {1.0, 1034}, {0.0, 1035}, {1.0, 1036}, {0.0, 1037}, {0.0, 1038}, {0.0, 1039}, {1040, 0.0}, {0.0, 1041}, {0.0, 1042}, {0.0, 1043}, {1.0, 1044}, {0.0, 1045}, {0.0, 1046}, {0.0, 1047}, {1048, 0.0}, {0.0, 1049}, {1.0, 1050}, {0.0, 1051}, {0.0, 1052}, {0.0, 1053}, {0.0, 1054}, {0.0, 1055}, {1056, 0.0}, {0.0, 1057}, {1.0, 1058}, {0.0, 1059}, {0.0, 1060}, {0.0, 1061}, {0.0, 1062}, {0.0, 1063}, {1064, 0.0}, {0.0, 1065}, {0.0, 1066}, {0.0, 1067}, {0.0, 1068}, {1.0, 1069}, {0.0, 1070}, {1.0, 1071}, {1072, 0.0}, {0.0, 1073}, {0.0, 1074}, {0.0, 1075}, {0.0, 1076}, {0.0, 1077}, {0.0, 1078}, {0.0, 1079}, {1080, 0.0}, {0.0, 1081}, {0.0, 1082}, {0.0, 1083}, {0.0, 1084}, {1.0, 1085}, {0.0, 1086}, {0.0, 1087}, {1088, 0.0}, {0.0, 1089}, {0.0, 1090}, {0.0, 1091}, {0.0, 1092}, {0.0, 1093}, {1.0, 1094}, {0.0, 1095}, {1096, 0.0}, {0.0, 1097}, {0.0, 1098}, {0.0, 1099}, {0.0, 1100}, {0.0, 1101}, {0.0, 1102}, {0.0, 1103}, {1104, 0.0}, {1105, 1.0}, {0.0, 1106}, {1.0, 1107}, {0.0, 1108}, {1.0, 1109}, {1.0, 1110}, {0.0, 1111}, {1112, 0.0}, {0.0, 1113}, {0.0, 1114}, {0.0, 1115}, {1.0, 1116}, {0.0, 1117}, {0.0, 1118}, {0.0, 1119}, {1120, 0.0}, {0.0, 1121}, {0.0, 1122}, {0.0, 1123}, {0.0, 1124}, {0.0, 1125}, {0.0, 1126}, {0.0, 1127}, {1128, 1.0}, {0.0, 1129}, {0.0, 1130}, {1.0, 1131}, {1.0, 1132}, {1.0, 1133}, {1.0, 1134}, {0.0, 1135}, {1136, 0.0}, {0.0, 1137}, {0.0, 1138}, {1.0, 1139}, {0.0, 1140}, {0.0, 1141}, {0.0, 1142}, {0.0, 1143}, {1144, 0.0}, {0.0, 1145}, {0.0, 1146}, {0.0, 1147}, {0.0, 1148}, {0.0, 1149}, {0.0, 1150}, {0.0, 1151}, {1152, 0.0}, {0.0, 1153}, {0.0, 1154}, {0.0, 1155}, {0.0, 1156}, {0.0, 1157}, {0.0, 1158}, {0.0, 1159}, {1160, 0.0}, {0.0, 1161}, {1.0, 1162}, {0.0, 1163}, {0.0, 1164}, {0.0, 1165}, {0.0, 1166}, {0.0, 1167}, {1168, 0.0}, {0.0, 1169}, {0.0, 1170}, {0.0, 1171}, {0.0, 1172}, {0.0, 1173}, {0.0, 1174}, {0.0, 1175}, {1176, 0.0}, {0.0, 1177}, {0.0, 1178}, {0.0, 1179}, {0.0, 1180}, {0.0, 1181}, {0.0, 1182}, {0.0, 1183}, {1184, 0.0}, {1185, 1.0}, {0.0, 1186}, {0.0, 1187}, {0.0, 1188}, {0.0, 1189}, {0.0, 1190}, {0.0, 1191}, {1192, 0.0}, {0.0, 1193}, {1.0, 1194}, {0.0, 1195}, {0.0, 1196}, {1.0, 1197}, {0.0, 1198}, {0.0, 1199}, {1200, 1.0}, {1201, 1.0}, {0.0, 1202}, {0.0, 1203}, {0.0, 1204}, {0.0, 1205}, {1.0, 1206}, {0.0, 1207}, {1208, 1.0}, {0.0, 1209}, {0.0, 1210}, {0.0, 1211}, {0.0, 1212}, {0.0, 1213}, {0.0, 1214}, {0.0, 1215}, {1216, 0.0}, {0.0, 1217}, {0.0, 1218}, {1.0, 1219}, {0.0, 1220}, {0.0, 1221}, {1.0, 1222}, {0.0, 1223}, {1224, 0.0}, {0.0, 1225}, {0.0, 1226}, {0.0, 1227}, {0.0, 1228}, {0.0, 1229}, {0.0, 1230}, {0.0, 1231}, {1232, 0.0}, {0.0, 1233}, {0.0, 1234}, {1.0, 1235}, {0.0, 1236}, {0.0, 1237}, {0.0, 1238}, {0.0, 1239}, {1240, 0.0}, {0.0, 1241}, {1.0, 1242}, {0.0, 1243}, {0.0, 1244}, {1.0, 1245}, {0.0, 1246}, {1.0, 1247}, {1248, 1.0}, {0.0, 1249}, {0.0, 1250}, {0.0, 1251}, {0.0, 1252}, {0.0, 1253}, {0.0, 1254}, {0.0, 1255}, {1256, 0.0}, {0.0, 1257}, {0.0, 1258}, {0.0, 1259}, {1.0, 1260}, {0.0, 1261}, {0.0, 1262}, {0.0, 1263}, {1264, 1.0}, {1265, 1.0}, {1.0, 1266}, {1.0, 1267}, {0.0, 1268}, {0.0, 1269}, {1.0, 1270}, {0.0, 1271}, {1272, 0.0}, {0.0, 1273}, {0.0, 1274}, {0.0, 1275}, {0.0, 1276}, {0.0, 1277}, {0.0, 1278}, {1.0, 1279}, {1280, 0.0}, {0.0, 1281}, {0.0, 1282}, {1.0, 1283}, {0.0, 1284}, {1.0, 1285}, {0.0, 1286}, {0.0, 1287}, {1288, 0.0}, {1289, 1.0}, {0.0, 1290}, {0.0, 1291}, {0.0, 1292}, {0.0, 1293}, {0.0, 1294}, {0.0, 1295}, {1296, 1.0}, {0.0, 1297}, {0.0, 1298}, {1.0, 1299}, {0.0, 1300}, {0.0, 1301}, {0.0, 1302}, {0.0, 1303}, {1304, 0.0}, {0.0, 1305}, {0.0, 1306}, {0.0, 1307}, {0.0, 1308}, {0.0, 1309}]\n",
            "     PassengerId  Survived\n",
            "0            0.0     892.0\n",
            "1            1.0     893.0\n",
            "2            1.0     894.0\n",
            "3            0.0     895.0\n",
            "4          896.0       0.0\n",
            "..           ...       ...\n",
            "413          0.0    1305.0\n",
            "414          0.0    1306.0\n",
            "415          0.0    1307.0\n",
            "416          0.0    1308.0\n",
            "417          0.0    1309.0\n",
            "\n",
            "[418 rows x 2 columns]\n"
          ]
        }
      ]
    }
  ]
}