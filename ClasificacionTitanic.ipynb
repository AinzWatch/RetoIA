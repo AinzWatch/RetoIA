{
  "nbformat": 4,
  "nbformat_minor": 0,
  "metadata": {
    "colab": {
      "provenance": []
    },
    "kernelspec": {
      "name": "python3",
      "display_name": "Python 3"
    },
    "language_info": {
      "name": "python"
    }
  },
  "cells": [
    {
      "cell_type": "code",
      "execution_count": null,
      "metadata": {
        "colab": {
          "base_uri": "https://localhost:8080/"
        },
        "id": "1fZUTuytUJFw",
        "outputId": "fe71a7ac-21ac-4c6a-ef82-745bf10a5e68"
      },
      "outputs": [
        {
          "output_type": "stream",
          "name": "stdout",
          "text": [
            "       PassengerId    Survived      Pclass         Age       SibSp  \\\n",
            "count   891.000000  891.000000  891.000000  714.000000  891.000000   \n",
            "mean    446.000000    0.383838    2.308642   29.699118    0.523008   \n",
            "std     257.353842    0.486592    0.836071   14.526497    1.102743   \n",
            "min       1.000000    0.000000    1.000000    0.420000    0.000000   \n",
            "25%     223.500000    0.000000    2.000000   20.125000    0.000000   \n",
            "50%     446.000000    0.000000    3.000000   28.000000    0.000000   \n",
            "75%     668.500000    1.000000    3.000000   38.000000    1.000000   \n",
            "max     891.000000    1.000000    3.000000   80.000000    8.000000   \n",
            "\n",
            "            Parch        Fare  \n",
            "count  891.000000  891.000000  \n",
            "mean     0.381594   32.204208  \n",
            "std      0.806057   49.693429  \n",
            "min      0.000000    0.000000  \n",
            "25%      0.000000    7.910400  \n",
            "50%      0.000000   14.454200  \n",
            "75%      0.000000   31.000000  \n",
            "max      6.000000  512.329200  \n",
            "Valores faltantes por columna:\n",
            "PassengerId      0\n",
            "Survived         0\n",
            "Pclass           0\n",
            "Name             0\n",
            "Sex              0\n",
            "Age            177\n",
            "SibSp            0\n",
            "Parch            0\n",
            "Ticket           0\n",
            "Fare             0\n",
            "Cabin          687\n",
            "Embarked         2\n",
            "dtype: int64\n",
            "   PassengerId  Survived  Pclass  \\\n",
            "0            1         0       3   \n",
            "1            2         1       1   \n",
            "2            3         1       3   \n",
            "3            4         1       1   \n",
            "4            5         0       3   \n",
            "5            7         0       1   \n",
            "\n",
            "                                                Name     Sex   Age  SibSp  \\\n",
            "0                            Braund, Mr. Owen Harris    male  22.0      1   \n",
            "1  Cumings, Mrs. John Bradley (Florence Briggs Th...  female  38.0      1   \n",
            "2                             Heikkinen, Miss. Laina  female  26.0      0   \n",
            "3       Futrelle, Mrs. Jacques Heath (Lily May Peel)  female  35.0      1   \n",
            "4                           Allen, Mr. William Henry    male  35.0      0   \n",
            "5                            McCarthy, Mr. Timothy J    male  54.0      0   \n",
            "\n",
            "   Parch            Ticket     Fare Cabin Embarked  \n",
            "0      0         A/5 21171   7.2500   NaN        S  \n",
            "1      0          PC 17599  71.2833   C85        C  \n",
            "2      0  STON/O2. 3101282   7.9250   NaN        S  \n",
            "3      0            113803  53.1000  C123        S  \n",
            "4      0            373450   8.0500   NaN        S  \n",
            "5      0             17463  51.8625   E46        S  \n"
          ]
        }
      ],
      "source": [
        "import pandas as pd\n",
        "import matplotlib.pyplot as plt\n",
        "import math\n",
        "import numpy as np\n",
        "\n",
        "oTrainData = pd.read_csv('/content/train.csv')\n",
        "#Limpiamos espacios de columnas\n",
        "#oTrainData = oTrainData.str.replace(' ', '')\n",
        "#oTrainData['Age'] = pd.to_numeric(oTrainData['Age'])\n",
        "#oTrainData[['PassengerId', 'Survived', 'Pclass',  'Age', 'SibSp', 'Parch',  'Fare']] = oTrainData[['PassengerId', 'Survived', 'Pclass',  'Age', 'SibSp', 'Parch',  'Fare']].apply(pd.to_numeric)\n",
        "#oTrainData[['Name', 'Sex', 'Ticket', 'Cabin', 'Embarked']] = oTrainData[['Name', 'Sex', 'Ticket', 'Cabin', 'Embarked']].astype(str)\n",
        "print(oTrainData.describe())\n",
        "\n",
        "#print( oTrainData.isnull())\n",
        "oMissingValues = oTrainData.isnull().sum()\n",
        "print(\"Valores faltantes por columna:\")\n",
        "print(oMissingValues)\n",
        "\n",
        "\n",
        "oCleanData = oTrainData[~oTrainData['Age'].isnull()]\n",
        "oCleanData.index = range(len(oCleanData))\n",
        "#oCleanData['Survived'] = oCleanData['Survived'].map({'female': 1, 'male': 0})\n",
        "print(oCleanData[0:6])"
      ]
    },
    {
      "cell_type": "code",
      "source": [
        "# Crear lista con los hiper-parámetros iniciales (thetas)\n",
        "fTeta0 = -5\n",
        "fTeta1 = 1\n",
        "iContador = 0\n",
        "iN = len(oCleanData)\n",
        "# Cargar el valor del learning rate (alpha)\n",
        "fAlpha = 0.01\n",
        "fValorBuscado = 35\n",
        "print(f\"Valor Buscado: {fValorBuscado}\")\n",
        "\n",
        "oH0Lambda = lambda teta0, teta1, x: teta0 + (teta1 * x)\n",
        "oSigimoide = lambda teta0, teta1, x:  1 / (1 + math.exp( - oH0Lambda(fTeta0, fTeta1, x) ) )\n",
        "\n",
        "while iContador < 50:\n",
        "\n",
        "  # Crear función lambda para la función de hipótesis\n",
        "  # Calcular el total de muestras a partir de los datos (n)\n",
        "  oH0 = []\n",
        "  iH0Total = 0\n",
        "  for x in oCleanData[\"Age\"]: oH0.append(oSigimoide(fTeta0, fTeta1, x) )  # Funcion Sigimoide\n",
        "  iH0Total = sum(oH0)\n",
        "  #print(oH0) # Nuestra lista de HTeta\n",
        "\n",
        "  # Calcular delta para theta0 y para cada muestra\n",
        "  oDelta = []\n",
        "  iDeltaTotal = 0\n",
        "\n",
        "  i = 0\n",
        "  while(i < iN):\n",
        "\n",
        "    oDelta.append( oH0[i] - oCleanData[\"Survived\"][i]  )\n",
        "    i += 1\n",
        "\n",
        "  iDeltaTotal = sum(oDelta)\n",
        "\n",
        "  # Calcular delta para theta1 y para cada muestra\n",
        "\n",
        "  oDeltaX = []\n",
        "  iDeltaXTotal = 0\n",
        "  i = 0\n",
        "\n",
        "  while(i < iN):\n",
        "    oDeltaX.append( oDelta[i] * oCleanData[\"Age\"][i]  )\n",
        "    i += 1\n",
        "\n",
        "  iDeltaXTotal = sum(oDeltaX)\n",
        "  #print(oDeltaX)\n",
        "\n",
        "  fTeta0 = fTeta0 - ((fAlpha/iN) * iDeltaTotal )\n",
        "\n",
        "  # Actualizar theta1\n",
        "  fTeta1 = fTeta1 - ((fAlpha/iN) * iDeltaXTotal )\n",
        "\n",
        "  fYm = 0\n",
        "  fYm = oSigimoide(fTeta0, fTeta1, fValorBuscado) #1/ (1+ math.exp( - oH0Lambda(fTeta0, fTeta1, fValorBuscado)))\n",
        "\n",
        "  #print(f\"Estimacion Teta0 Iteracion Num.{iContador}: \" + str(fTeta0))\n",
        "  #print(f\"Estimacion Teta1 Iteracion Num.{iContador}: \" + str(fTeta1))\n",
        "\n",
        "\n",
        "  iContador += 1\n",
        "print(\"Estimacion Ym: \" + str(fYm))\n",
        "\n"
      ],
      "metadata": {
        "colab": {
          "base_uri": "https://localhost:8080/"
        },
        "id": "6Nuibe2MUc3x",
        "outputId": "4c48c13f-ad30-4e6f-f0c0-c6c36bb38946"
      },
      "execution_count": null,
      "outputs": [
        {
          "output_type": "stream",
          "name": "stdout",
          "text": [
            "Valor Buscado: 35\n",
            "Estimacion Ym: 0.3055351842659073\n"
          ]
        }
      ]
    },
    {
      "cell_type": "code",
      "source": [
        "#fValorBuscado = 10\n",
        "#fYm = oSigimoide(fTeta0, fTeta1, fValorBuscado)\n",
        "#print(\"Estimacion Ym: \" + str(fYm))\n",
        "\n",
        "oTestData = pd.read_csv('/content/test.csv')\n",
        "print(oTestData.columns)\n",
        "oTestData['Age'] = oTestData['Age'].fillna(0)\n",
        "#for x in oTestData[\"Age\"]: print(oTestData[\"Age\"]),print(oSigimoide(fTeta0, fTeta1, x) )\n",
        "\n",
        "iContador = 0\n",
        "data = []\n",
        "for x in oTestData[\"Age\"]:\n",
        "  data += [{ oTestData[\"PassengerId\"][iContador] ,round(oSigimoide(fTeta0, fTeta1, x),0) } ]\n",
        "\n",
        "  iContador+=1\n",
        "print(data)\n",
        "oPrediccion = pd.DataFrame(data,columns=['PassengerId', 'Survived' ])\n",
        "\n",
        "# pd.concat([df, pd.DataFrame([new_row])], ignore_index=True)\n",
        "\n",
        "print(oPrediccion)\n",
        "\n",
        "#oPrediccion.to_csv('Result.csv', sep=',', index=False, encoding='utf-8')"
      ],
      "metadata": {
        "colab": {
          "base_uri": "https://localhost:8080/"
        },
        "id": "sefxMMZI7jEq",
        "outputId": "3a30cda2-0918-488e-8e76-ea552994d6b1",
        "collapsed": true
      },
      "execution_count": null,
      "outputs": [
        {
          "output_type": "stream",
          "name": "stdout",
          "text": [
            "Index(['PassengerId', 'Pclass', 'Name', 'Sex', 'Age', 'SibSp', 'Parch',\n",
            "       'Ticket', 'Fare', 'Cabin', 'Embarked'],\n",
            "      dtype='object')\n",
            "[{0.0, 892}, {1.0, 893}, {1.0, 894}, {0.0, 895}, {896, 0.0}, {0.0, 897}, {0.0, 898}, {0.0, 899}, {0.0, 900}, {0.0, 901}, {0.0, 902}, {1.0, 903}, {904, 0.0}, {905, 1.0}, {1.0, 906}, {0.0, 907}, {0.0, 908}, {0.0, 909}, {0.0, 910}, {1.0, 911}, {912, 1.0}, {0.0, 913}, {0.0, 914}, {0.0, 915}, {1.0, 916}, {1.0, 917}, {0.0, 918}, {0.0, 919}, {920, 0.0}, {0.0, 921}, {1.0, 922}, {0.0, 923}, {0.0, 924}, {0.0, 925}, {0.0, 926}, {0.0, 927}, {928, 0.0}, {0.0, 929}, {0.0, 930}, {0.0, 931}, {0.0, 932}, {0.0, 933}, {0.0, 934}, {0.0, 935}, {936, 1.0}, {0.0, 937}, {1.0, 938}, {0.0, 939}, {1.0, 940}, {0.0, 941}, {0.0, 942}, {0.0, 943}, {944, 0.0}, {0.0, 945}, {0.0, 946}, {0.0, 947}, {0.0, 948}, {0.0, 949}, {0.0, 950}, {0.0, 951}, {952, 0.0}, {0.0, 953}, {0.0, 954}, {0.0, 955}, {0.0, 956}, {0.0, 957}, {0.0, 958}, {1.0, 959}, {960, 0.0}, {961, 1.0}, {0.0, 962}, {0.0, 963}, {0.0, 964}, {0.0, 965}, {0.0, 966}, {0.0, 967}, {968, 0.0}, {969, 1.0}, {0.0, 970}, {0.0, 971}, {0.0, 972}, {1.0, 973}, {1.0, 974}, {0.0, 975}, {976, 0.0}, {0.0, 977}, {0.0, 978}, {0.0, 979}, {0.0, 980}, {0.0, 981}, {0.0, 982}, {0.0, 983}, {984, 0.0}, {0.0, 985}, {0.0, 986}, {0.0, 987}, {1.0, 988}, {0.0, 989}, {0.0, 990}, {0.0, 991}, {992, 1.0}, {0.0, 993}, {0.0, 994}, {0.0, 995}, {0.0, 996}, {0.0, 997}, {0.0, 998}, {0.0, 999}, {1000, 0.0}, {0.0, 1001}, {0.0, 1002}, {0.0, 1003}, {0.0, 1004}, {0.0, 1005}, {1.0, 1006}, {0.0, 1007}, {1008, 0.0}, {0.0, 1009}, {0.0, 1010}, {0.0, 1011}, {0.0, 1012}, {0.0, 1013}, {0.0, 1014}, {0.0, 1015}, {1016, 0.0}, {0.0, 1017}, {0.0, 1018}, {0.0, 1019}, {1.0, 1020}, {0.0, 1021}, {0.0, 1022}, {1.0, 1023}, {1024, 0.0}, {0.0, 1025}, {1.0, 1026}, {0.0, 1027}, {0.0, 1028}, {0.0, 1029}, {0.0, 1030}, {0.0, 1031}, {1032, 0.0}, {0.0, 1033}, {1.0, 1034}, {0.0, 1035}, {1.0, 1036}, {0.0, 1037}, {0.0, 1038}, {0.0, 1039}, {1040, 0.0}, {0.0, 1041}, {0.0, 1042}, {0.0, 1043}, {1.0, 1044}, {0.0, 1045}, {0.0, 1046}, {0.0, 1047}, {1048, 0.0}, {0.0, 1049}, {1.0, 1050}, {0.0, 1051}, {0.0, 1052}, {0.0, 1053}, {0.0, 1054}, {0.0, 1055}, {1056, 0.0}, {0.0, 1057}, {1.0, 1058}, {0.0, 1059}, {0.0, 1060}, {0.0, 1061}, {0.0, 1062}, {0.0, 1063}, {1064, 0.0}, {0.0, 1065}, {0.0, 1066}, {0.0, 1067}, {0.0, 1068}, {1.0, 1069}, {0.0, 1070}, {1.0, 1071}, {1072, 0.0}, {0.0, 1073}, {0.0, 1074}, {0.0, 1075}, {0.0, 1076}, {0.0, 1077}, {0.0, 1078}, {0.0, 1079}, {1080, 0.0}, {0.0, 1081}, {0.0, 1082}, {0.0, 1083}, {0.0, 1084}, {1.0, 1085}, {0.0, 1086}, {0.0, 1087}, {1088, 0.0}, {0.0, 1089}, {0.0, 1090}, {0.0, 1091}, {0.0, 1092}, {0.0, 1093}, {1.0, 1094}, {0.0, 1095}, {1096, 0.0}, {0.0, 1097}, {0.0, 1098}, {0.0, 1099}, {0.0, 1100}, {0.0, 1101}, {0.0, 1102}, {0.0, 1103}, {1104, 0.0}, {1105, 1.0}, {0.0, 1106}, {1.0, 1107}, {0.0, 1108}, {1.0, 1109}, {1.0, 1110}, {0.0, 1111}, {1112, 0.0}, {0.0, 1113}, {0.0, 1114}, {0.0, 1115}, {1.0, 1116}, {0.0, 1117}, {0.0, 1118}, {0.0, 1119}, {1120, 0.0}, {0.0, 1121}, {0.0, 1122}, {0.0, 1123}, {0.0, 1124}, {0.0, 1125}, {0.0, 1126}, {0.0, 1127}, {1128, 1.0}, {0.0, 1129}, {0.0, 1130}, {1.0, 1131}, {1.0, 1132}, {1.0, 1133}, {1.0, 1134}, {0.0, 1135}, {1136, 0.0}, {0.0, 1137}, {0.0, 1138}, {1.0, 1139}, {0.0, 1140}, {0.0, 1141}, {0.0, 1142}, {0.0, 1143}, {1144, 0.0}, {0.0, 1145}, {0.0, 1146}, {0.0, 1147}, {0.0, 1148}, {0.0, 1149}, {0.0, 1150}, {0.0, 1151}, {1152, 0.0}, {0.0, 1153}, {0.0, 1154}, {0.0, 1155}, {0.0, 1156}, {0.0, 1157}, {0.0, 1158}, {0.0, 1159}, {1160, 0.0}, {0.0, 1161}, {1.0, 1162}, {0.0, 1163}, {0.0, 1164}, {0.0, 1165}, {0.0, 1166}, {0.0, 1167}, {1168, 0.0}, {0.0, 1169}, {0.0, 1170}, {0.0, 1171}, {0.0, 1172}, {0.0, 1173}, {0.0, 1174}, {0.0, 1175}, {1176, 0.0}, {0.0, 1177}, {0.0, 1178}, {0.0, 1179}, {0.0, 1180}, {0.0, 1181}, {0.0, 1182}, {0.0, 1183}, {1184, 0.0}, {1185, 1.0}, {0.0, 1186}, {0.0, 1187}, {0.0, 1188}, {0.0, 1189}, {0.0, 1190}, {0.0, 1191}, {1192, 0.0}, {0.0, 1193}, {1.0, 1194}, {0.0, 1195}, {0.0, 1196}, {1.0, 1197}, {0.0, 1198}, {0.0, 1199}, {1200, 1.0}, {1201, 1.0}, {0.0, 1202}, {0.0, 1203}, {0.0, 1204}, {0.0, 1205}, {1.0, 1206}, {0.0, 1207}, {1208, 1.0}, {0.0, 1209}, {0.0, 1210}, {0.0, 1211}, {0.0, 1212}, {0.0, 1213}, {0.0, 1214}, {0.0, 1215}, {1216, 0.0}, {0.0, 1217}, {0.0, 1218}, {1.0, 1219}, {0.0, 1220}, {0.0, 1221}, {1.0, 1222}, {0.0, 1223}, {1224, 0.0}, {0.0, 1225}, {0.0, 1226}, {0.0, 1227}, {0.0, 1228}, {0.0, 1229}, {0.0, 1230}, {0.0, 1231}, {1232, 0.0}, {0.0, 1233}, {0.0, 1234}, {1.0, 1235}, {0.0, 1236}, {0.0, 1237}, {0.0, 1238}, {0.0, 1239}, {1240, 0.0}, {0.0, 1241}, {1.0, 1242}, {0.0, 1243}, {0.0, 1244}, {1.0, 1245}, {0.0, 1246}, {1.0, 1247}, {1248, 1.0}, {0.0, 1249}, {0.0, 1250}, {0.0, 1251}, {0.0, 1252}, {0.0, 1253}, {0.0, 1254}, {0.0, 1255}, {1256, 0.0}, {0.0, 1257}, {0.0, 1258}, {0.0, 1259}, {1.0, 1260}, {0.0, 1261}, {0.0, 1262}, {0.0, 1263}, {1264, 1.0}, {1265, 1.0}, {1.0, 1266}, {1.0, 1267}, {0.0, 1268}, {0.0, 1269}, {1.0, 1270}, {0.0, 1271}, {1272, 0.0}, {0.0, 1273}, {0.0, 1274}, {0.0, 1275}, {0.0, 1276}, {0.0, 1277}, {0.0, 1278}, {1.0, 1279}, {1280, 0.0}, {0.0, 1281}, {0.0, 1282}, {1.0, 1283}, {0.0, 1284}, {1.0, 1285}, {0.0, 1286}, {0.0, 1287}, {1288, 0.0}, {1289, 1.0}, {0.0, 1290}, {0.0, 1291}, {0.0, 1292}, {0.0, 1293}, {0.0, 1294}, {0.0, 1295}, {1296, 1.0}, {0.0, 1297}, {0.0, 1298}, {1.0, 1299}, {0.0, 1300}, {0.0, 1301}, {0.0, 1302}, {0.0, 1303}, {1304, 0.0}, {0.0, 1305}, {0.0, 1306}, {0.0, 1307}, {0.0, 1308}, {0.0, 1309}]\n",
            "     PassengerId  Survived\n",
            "0            0.0     892.0\n",
            "1            1.0     893.0\n",
            "2            1.0     894.0\n",
            "3            0.0     895.0\n",
            "4          896.0       0.0\n",
            "..           ...       ...\n",
            "413          0.0    1305.0\n",
            "414          0.0    1306.0\n",
            "415          0.0    1307.0\n",
            "416          0.0    1308.0\n",
            "417          0.0    1309.0\n",
            "\n",
            "[418 rows x 2 columns]\n"
          ]
        }
      ]
    },
    {
      "cell_type": "markdown",
      "source": [
        "### Clasificacion con dos caracteristicas usando sklearn"
      ],
      "metadata": {
        "id": "xMtQKhkxtO2c"
      }
    },
    {
      "cell_type": "code",
      "source": [
        "from sklearn.model_selection import train_test_split\n",
        "from sklearn.linear_model import LogisticRegression\n",
        "from sklearn.metrics import f1_score, mean_squared_error, confusion_matrix, ConfusionMatrixDisplay\n",
        "from sklearn.impute import KNNImputer\n",
        "from sklearn.neural_network import MLPClassifier\n"
      ],
      "metadata": {
        "id": "Btt5G1pctOoc"
      },
      "execution_count": null,
      "outputs": []
    },
    {
      "cell_type": "code",
      "source": [
        "oTrainData = pd.read_csv('/content/train.csv')\n",
        "# Llenar datos vacios con vecinos\n",
        "data_for_imputation = oTrainData[['Pclass', 'Sex', 'SibSp', 'Parch', 'Age']].copy()\n",
        "data_for_imputation['Sex'] = data_for_imputation['Sex'].map({'male': 0, 'female': 1})\n",
        "\n",
        "imputer = KNNImputer(n_neighbors=4)\n",
        "\n",
        "imputed_data = imputer.fit_transform(data_for_imputation)\n",
        "# Convert back to DataFrame with original columns (minus 'Name')\n",
        "imputed_df = pd.DataFrame(imputed_data)\n",
        "\n",
        "# Update the 'Age' column in the original passengers DataFrame\n",
        "oCleanData['Age'] = imputed_df[3]\n",
        "oCleanData = oTrainData[~oTrainData['Age'].isnull()]\n",
        "oCleanData[\"Sex\"] = oCleanData[\"Sex\"].map({'female': 1, 'male': 0})\n",
        "oCleanData[\"Fam\"] = oCleanData[\"SibSp\"] + oCleanData[\"Parch\"]\n"
      ],
      "metadata": {
        "colab": {
          "base_uri": "https://localhost:8080/"
        },
        "id": "jvGT-2Qdx-G0",
        "outputId": "52959c55-89c7-45b9-b62b-61b09000fef6"
      },
      "execution_count": null,
      "outputs": [
        {
          "output_type": "stream",
          "name": "stderr",
          "text": [
            "<ipython-input-153-d760efb5652d>:15: SettingWithCopyWarning: \n",
            "A value is trying to be set on a copy of a slice from a DataFrame.\n",
            "Try using .loc[row_indexer,col_indexer] = value instead\n",
            "\n",
            "See the caveats in the documentation: https://pandas.pydata.org/pandas-docs/stable/user_guide/indexing.html#returning-a-view-versus-a-copy\n",
            "  oCleanData[\"Sex\"] = oCleanData[\"Sex\"].map({'female': 1, 'male': 0})\n",
            "<ipython-input-153-d760efb5652d>:16: SettingWithCopyWarning: \n",
            "A value is trying to be set on a copy of a slice from a DataFrame.\n",
            "Try using .loc[row_indexer,col_indexer] = value instead\n",
            "\n",
            "See the caveats in the documentation: https://pandas.pydata.org/pandas-docs/stable/user_guide/indexing.html#returning-a-view-versus-a-copy\n",
            "  oCleanData[\"Fam\"] = oCleanData[\"SibSp\"] + oCleanData[\"Parch\"]\n"
          ]
        }
      ]
    },
    {
      "cell_type": "markdown",
      "source": [
        "Predicciones con caracteristicas de edad y genero (regresión logistica)"
      ],
      "metadata": {
        "id": "8lqfsnbhyA-F"
      }
    },
    {
      "cell_type": "code",
      "source": [
        "train_x, test_x, train_y, test_y = train_test_split(oCleanData[[\"Age\", \"Sex\"]], oCleanData[\"Survived\"], test_size=0.3)\n",
        "model = LogisticRegression()\n",
        "model.fit(train_x, train_y)\n",
        "\n",
        "model.score(test_x, test_y)\n",
        "predicciones = model.predict(test_x)\n",
        "print(\"Error cuadratico promedio\", mean_squared_error(test_y, predicciones))"
      ],
      "metadata": {
        "colab": {
          "base_uri": "https://localhost:8080/"
        },
        "id": "fzztjU61ta_9",
        "outputId": "1b4e307d-aee3-4c36-82c4-615ad7365f26"
      },
      "execution_count": null,
      "outputs": [
        {
          "output_type": "stream",
          "name": "stdout",
          "text": [
            "Error cuadratico promedio 0.20930232558139536\n"
          ]
        }
      ]
    },
    {
      "cell_type": "markdown",
      "source": [
        "## Predicciones con caracteristicas de edad y clase (regresión logistica)\n",
        "### Mejores semillas hasta el momento\n",
        "#### Parametros base edad y sexo\n",
        "(1ra gen, parch usando pclass como extra)\n",
        "- Separación de datos: 3747023448\n",
        "- Entrenamiento: 1753702691\n",
        "\n",
        "(2da gen, usando pclass, sibsp como extra) 0.857142\n",
        "- Separación de datos: 1545205705\n",
        "- Entrenamiento: 2588643803"
      ],
      "metadata": {
        "id": "V35_wNQ1yGPD"
      }
    },
    {
      "cell_type": "code",
      "source": [
        "#1era gen\n",
        "train_x, test_x, train_y, test_y = train_test_split(oCleanData[[\"Age\", \"Sex\", \"Pclass\"]], oCleanData[\"Survived\"], test_size=0.3, random_state = 3747023448)\n",
        "best_model = LogisticRegression(random_state = 1753702691)\n",
        "best_model.fit(train_x, train_y)\n",
        "\n",
        "best_model.score(test_x, test_y)\n",
        "predicciones = best_model.predict(test_x)\n",
        "print(\"F1 Score\", f1_score(test_y, predicciones))\n",
        "predicciones = best_model.predict(test_x)\n",
        "cm = confusion_matrix(test_y, predicciones)\n",
        "disp = ConfusionMatrixDisplay(confusion_matrix=cm)\n",
        "disp.plot(cmap=plt.cm.Blues)"
      ],
      "metadata": {
        "colab": {
          "base_uri": "https://localhost:8080/",
          "height": 488
        },
        "id": "pe6SUVYIzodm",
        "outputId": "43345e74-f615-4ae0-892a-6b1b648081b6"
      },
      "execution_count": null,
      "outputs": [
        {
          "output_type": "stream",
          "name": "stdout",
          "text": [
            "F1 Score 0.8466257668711655\n"
          ]
        },
        {
          "output_type": "execute_result",
          "data": {
            "text/plain": [
              "<sklearn.metrics._plot.confusion_matrix.ConfusionMatrixDisplay at 0x7caf64e68190>"
            ]
          },
          "metadata": {},
          "execution_count": 155
        },
        {
          "output_type": "display_data",
          "data": {
            "text/plain": [
              "<Figure size 640x480 with 2 Axes>"
            ],
            "image/png": "[encoded data removed]"
          },
          "metadata": {}
        }
      ]
    },
    {
      "cell_type": "code",
      "source": [
        "#2da gen\n",
        "train_x, test_x, train_y, test_y = train_test_split(oCleanData[[\"Age\", \"Sex\", \"Pclass\", \"SibSp\"]], oCleanData[\"Survived\"], test_size=0.3, random_state = 1545205705)\n",
        "best_model = LogisticRegression(random_state = 2588643803)\n",
        "best_model.fit(train_x, train_y)\n",
        "\n",
        "best_model.score(test_x, test_y)\n",
        "predicciones = best_model.predict(test_x)\n",
        "print(\"F1 Score\", f1_score(test_y, predicciones))\n",
        "cm = confusion_matrix(test_y, predicciones)\n",
        "disp = ConfusionMatrixDisplay(confusion_matrix=cm)\n",
        "disp.plot(cmap=plt.cm.Blues)"
      ],
      "metadata": {
        "colab": {
          "base_uri": "https://localhost:8080/",
          "height": 485
        },
        "id": "zHLjKnVsyR1f",
        "outputId": "63d2366f-469c-47fa-bfed-6f72236caf4c"
      },
      "execution_count": null,
      "outputs": [
        {
          "output_type": "stream",
          "name": "stdout",
          "text": [
            "F1 Score 0.8571428571428571\n"
          ]
        },
        {
          "output_type": "execute_result",
          "data": {
            "text/plain": [
              "<sklearn.metrics._plot.confusion_matrix.ConfusionMatrixDisplay at 0x7caf64de99f0>"
            ]
          },
          "metadata": {},
          "execution_count": 156
        },
        {
          "output_type": "display_data",
          "data": {
            "text/plain": [
              "<Figure size 640x480 with 2 Axes>"
            ],
            "image/png": "[encoded data removed]"
          },
          "metadata": {}
        }
      ]
    },
    {
      "cell_type": "markdown",
      "source": [
        "### Análisis de los datos en los que se equivocó el modelo con la 2da gen de semillas"
      ],
      "metadata": {
        "id": "LApfuWCT1yfy"
      }
    },
    {
      "cell_type": "code",
      "source": [
        "train_x, test_x, train_y, test_y = train_test_split(oCleanData[[\"Age\", \"Sex\", \"Pclass\", \"SibSp\"]], oCleanData[\"Survived\"], test_size=0.3, random_state = 1545205705)\n",
        "best_model = LogisticRegression(random_state = 2588643803)\n",
        "best_model.fit(train_x, train_y)\n",
        "best_model.score(test_x, test_y)\n",
        "predicciones = best_model.predict(test_x)"
      ],
      "metadata": {
        "id": "jXbTCx8m2DSL"
      },
      "execution_count": null,
      "outputs": []
    },
    {
      "cell_type": "code",
      "source": [
        "test_x['Predicciones'] = predicciones\n",
        "test_x['Survived'] = test_y\n",
        "errors = test_x[test_x['Survived'] != test_x['Predicciones']]\n",
        "print(\"Cantidad de errores: \", len(errors))\n",
        "plt.hist(errors['Age'])\n",
        "errors"
      ],
      "metadata": {
        "colab": {
          "base_uri": "https://localhost:8080/",
          "height": 1000
        },
        "id": "cUS_ZrFC3EF_",
        "outputId": "0a12f9ee-ff4d-4082-fd38-3c44143acb6d"
      },
      "execution_count": null,
      "outputs": [
        {
          "output_type": "stream",
          "name": "stdout",
          "text": [
            "Cantidad de errores:  26\n"
          ]
        },
        {
          "output_type": "execute_result",
          "data": {
            "text/plain": [
              "      Age  Sex  Pclass  SibSp  Predicciones  Survived\n",
              "712  48.0    0       1      1             0         1\n",
              "852   9.0    1       3      1             1         0\n",
              "816  23.0    1       3      0             1         0\n",
              "483  63.0    1       3      0             0         1\n",
              "81   29.0    0       3      0             0         1\n",
              "807  18.0    1       3      0             1         0\n",
              "857  51.0    0       1      0             0         1\n",
              "671  31.0    0       1      1             1         0\n",
              "501  21.0    1       3      0             1         0\n",
              "400  39.0    0       3      0             0         1\n",
              "583  36.0    0       1      0             1         0\n",
              "271  25.0    0       3      0             0         1\n",
              "336  29.0    0       1      1             1         0\n",
              "390  36.0    0       1      1             0         1\n",
              "286  30.0    0       3      0             0         1\n",
              "391  21.0    0       3      0             0         1\n",
              "177  50.0    1       1      0             1         0\n",
              "429  32.0    0       3      0             0         1\n",
              "854  44.0    1       2      1             1         0\n",
              "654  18.0    1       3      0             1         0\n",
              "199  24.0    1       2      0             1         0\n",
              "762  20.0    0       3      0             0         1\n",
              "377  27.0    0       1      0             1         0\n",
              "510  29.0    0       3      0             0         1\n",
              "455  29.0    0       3      0             0         1\n",
              "642   2.0    1       3      3             1         0"
            ],
            "text/html": [
              "\n",
              "  <div id=\"df-61a0dcc6-ff50-4cf2-9622-ba7b3198df1e\" class=\"colab-df-container\">\n",
              "    <div>\n",
              "<style scoped>\n",
              "    .dataframe tbody tr th:only-of-type {\n",
              "        vertical-align: middle;\n",
              "    }\n",
              "\n",
              "    .dataframe tbody tr th {\n",
              "        vertical-align: top;\n",
              "    }\n",
              "\n",
              "    .dataframe thead th {\n",
              "        text-align: right;\n",
              "    }\n",
              "</style>\n",
              "<table border=\"1\" class=\"dataframe\">\n",
              "  <thead>\n",
              "    <tr style=\"text-align: right;\">\n",
              "      <th></th>\n",
              "      <th>Age</th>\n",
              "      <th>Sex</th>\n",
              "      <th>Pclass</th>\n",
              "      <th>SibSp</th>\n",
              "      <th>Predicciones</th>\n",
              "      <th>Survived</th>\n",
              "    </tr>\n",
              "  </thead>\n",
              "  <tbody>\n",
              "    <tr>\n",
              "      <th>712</th>\n",
              "      <td>48.0</td>\n",
              "      <td>0</td>\n",
              "      <td>1</td>\n",
              "      <td>1</td>\n",
              "      <td>0</td>\n",
              "      <td>1</td>\n",
              "    </tr>\n",
              "    <tr>\n",
              "      <th>852</th>\n",
              "      <td>9.0</td>\n",
              "      <td>1</td>\n",
              "      <td>3</td>\n",
              "      <td>1</td>\n",
              "      <td>1</td>\n",
              "      <td>0</td>\n",
              "    </tr>\n",
              "    <tr>\n",
              "      <th>816</th>\n",
              "      <td>23.0</td>\n",
              "      <td>1</td>\n",
              "      <td>3</td>\n",
              "      <td>0</td>\n",
              "      <td>1</td>\n",
              "      <td>0</td>\n",
              "    </tr>\n",
              "    <tr>\n",
              "      <th>483</th>\n",
              "      <td>63.0</td>\n",
              "      <td>1</td>\n",
              "      <td>3</td>\n",
              "      <td>0</td>\n",
              "      <td>0</td>\n",
              "      <td>1</td>\n",
              "    </tr>\n",
              "    <tr>\n",
              "      <th>81</th>\n",
              "      <td>29.0</td>\n",
              "      <td>0</td>\n",
              "      <td>3</td>\n",
              "      <td>0</td>\n",
              "      <td>0</td>\n",
              "      <td>1</td>\n",
              "    </tr>\n",
              "    <tr>\n",
              "      <th>807</th>\n",
              "      <td>18.0</td>\n",
              "      <td>1</td>\n",
              "      <td>3</td>\n",
              "      <td>0</td>\n",
              "      <td>1</td>\n",
              "      <td>0</td>\n",
              "    </tr>\n",
              "    <tr>\n",
              "      <th>857</th>\n",
              "      <td>51.0</td>\n",
              "      <td>0</td>\n",
              "      <td>1</td>\n",
              "      <td>0</td>\n",
              "      <td>0</td>\n",
              "      <td>1</td>\n",
              "    </tr>\n",
              "    <tr>\n",
              "      <th>671</th>\n",
              "      <td>31.0</td>\n",
              "      <td>0</td>\n",
              "      <td>1</td>\n",
              "      <td>1</td>\n",
              "      <td>1</td>\n",
              "      <td>0</td>\n",
              "    </tr>\n",
              "    <tr>\n",
              "      <th>501</th>\n",
              "      <td>21.0</td>\n",
              "      <td>1</td>\n",
              "      <td>3</td>\n",
              "      <td>0</td>\n",
              "      <td>1</td>\n",
              "      <td>0</td>\n",
              "    </tr>\n",
              "    <tr>\n",
              "      <th>400</th>\n",
              "      <td>39.0</td>\n",
              "      <td>0</td>\n",
              "      <td>3</td>\n",
              "      <td>0</td>\n",
              "      <td>0</td>\n",
              "      <td>1</td>\n",
              "    </tr>\n",
              "    <tr>\n",
              "      <th>583</th>\n",
              "      <td>36.0</td>\n",
              "      <td>0</td>\n",
              "      <td>1</td>\n",
              "      <td>0</td>\n",
              "      <td>1</td>\n",
              "      <td>0</td>\n",
              "    </tr>\n",
              "    <tr>\n",
              "      <th>271</th>\n",
              "      <td>25.0</td>\n",
              "      <td>0</td>\n",
              "      <td>3</td>\n",
              "      <td>0</td>\n",
              "      <td>0</td>\n",
              "      <td>1</td>\n",
              "    </tr>\n",
              "    <tr>\n",
              "      <th>336</th>\n",
              "      <td>29.0</td>\n",
              "      <td>0</td>\n",
              "      <td>1</td>\n",
              "      <td>1</td>\n",
              "      <td>1</td>\n",
              "      <td>0</td>\n",
              "    </tr>\n",
              "    <tr>\n",
              "      <th>390</th>\n",
              "      <td>36.0</td>\n",
              "      <td>0</td>\n",
              "      <td>1</td>\n",
              "      <td>1</td>\n",
              "      <td>0</td>\n",
              "      <td>1</td>\n",
              "    </tr>\n",
              "    <tr>\n",
              "      <th>286</th>\n",
              "      <td>30.0</td>\n",
              "      <td>0</td>\n",
              "      <td>3</td>\n",
              "      <td>0</td>\n",
              "      <td>0</td>\n",
              "      <td>1</td>\n",
              "    </tr>\n",
              "    <tr>\n",
              "      <th>391</th>\n",
              "      <td>21.0</td>\n",
              "      <td>0</td>\n",
              "      <td>3</td>\n",
              "      <td>0</td>\n",
              "      <td>0</td>\n",
              "      <td>1</td>\n",
              "    </tr>\n",
              "    <tr>\n",
              "      <th>177</th>\n",
              "      <td>50.0</td>\n",
              "      <td>1</td>\n",
              "      <td>1</td>\n",
              "      <td>0</td>\n",
              "      <td>1</td>\n",
              "      <td>0</td>\n",
              "    </tr>\n",
              "    <tr>\n",
              "      <th>429</th>\n",
              "      <td>32.0</td>\n",
              "      <td>0</td>\n",
              "      <td>3</td>\n",
              "      <td>0</td>\n",
              "      <td>0</td>\n",
              "      <td>1</td>\n",
              "    </tr>\n",
              "    <tr>\n",
              "      <th>854</th>\n",
              "      <td>44.0</td>\n",
              "      <td>1</td>\n",
              "      <td>2</td>\n",
              "      <td>1</td>\n",
              "      <td>1</td>\n",
              "      <td>0</td>\n",
              "    </tr>\n",
              "    <tr>\n",
              "      <th>654</th>\n",
              "      <td>18.0</td>\n",
              "      <td>1</td>\n",
              "      <td>3</td>\n",
              "      <td>0</td>\n",
              "      <td>1</td>\n",
              "      <td>0</td>\n",
              "    </tr>\n",
              "    <tr>\n",
              "      <th>199</th>\n",
              "      <td>24.0</td>\n",
              "      <td>1</td>\n",
              "      <td>2</td>\n",
              "      <td>0</td>\n",
              "      <td>1</td>\n",
              "      <td>0</td>\n",
              "    </tr>\n",
              "    <tr>\n",
              "      <th>762</th>\n",
              "      <td>20.0</td>\n",
              "      <td>0</td>\n",
              "      <td>3</td>\n",
              "      <td>0</td>\n",
              "      <td>0</td>\n",
              "      <td>1</td>\n",
              "    </tr>\n",
              "    <tr>\n",
              "      <th>377</th>\n",
              "      <td>27.0</td>\n",
              "      <td>0</td>\n",
              "      <td>1</td>\n",
              "      <td>0</td>\n",
              "      <td>1</td>\n",
              "      <td>0</td>\n",
              "    </tr>\n",
              "    <tr>\n",
              "      <th>510</th>\n",
              "      <td>29.0</td>\n",
              "      <td>0</td>\n",
              "      <td>3</td>\n",
              "      <td>0</td>\n",
              "      <td>0</td>\n",
              "      <td>1</td>\n",
              "    </tr>\n",
              "    <tr>\n",
              "      <th>455</th>\n",
              "      <td>29.0</td>\n",
              "      <td>0</td>\n",
              "      <td>3</td>\n",
              "      <td>0</td>\n",
              "      <td>0</td>\n",
              "      <td>1</td>\n",
              "    </tr>\n",
              "    <tr>\n",
              "      <th>642</th>\n",
              "      <td>2.0</td>\n",
              "      <td>1</td>\n",
              "      <td>3</td>\n",
              "      <td>3</td>\n",
              "      <td>1</td>\n",
              "      <td>0</td>\n",
              "    </tr>\n",
              "  </tbody>\n",
              "</table>\n",
              "</div>\n",
              "    <div class=\"colab-df-buttons\">\n",
              "\n",
              "  <div class=\"colab-df-container\">\n",
              "    <button class=\"colab-df-convert\" onclick=\"convertToInteractive('df-61a0dcc6-ff50-4cf2-9622-ba7b3198df1e')\"\n",
              "            title=\"Convert this dataframe to an interactive table.\"\n",
              "            style=\"display:none;\">\n",
              "\n",
              "  <svg xmlns=\"http://www.w3.org/2000/svg\" height=\"24px\" viewBox=\"0 -960 960 960\">\n",
              "    <path d=\"M120-120v-720h720v720H120Zm60-500h600v-160H180v160Zm220 220h160v-160H400v160Zm0 220h160v-160H400v160ZM180-400h160v-160H180v160Zm440 0h160v-160H620v160ZM180-180h160v-160H180v160Zm440 0h160v-160H620v160Z\"/>\n",
              "  </svg>\n",
              "    </button>\n",
              "\n",
              "  <style>\n",
              "    .colab-df-container {\n",
              "      display:flex;\n",
              "      gap: 12px;\n",
              "    }\n",
              "\n",
              "    .colab-df-convert {\n",
              "      background-color: #E8F0FE;\n",
              "      border: none;\n",
              "      border-radius: 50%;\n",
              "      cursor: pointer;\n",
              "      display: none;\n",
              "      fill: #1967D2;\n",
              "      height: 32px;\n",
              "      padding: 0 0 0 0;\n",
              "      width: 32px;\n",
              "    }\n",
              "\n",
              "    .colab-df-convert:hover {\n",
              "      background-color: #E2EBFA;\n",
              "      box-shadow: 0px 1px 2px rgba(60, 64, 67, 0.3), 0px 1px 3px 1px rgba(60, 64, 67, 0.15);\n",
              "      fill: #174EA6;\n",
              "    }\n",
              "\n",
              "    .colab-df-buttons div {\n",
              "      margin-bottom: 4px;\n",
              "    }\n",
              "\n",
              "    [theme=dark] .colab-df-convert {\n",
              "      background-color: #3B4455;\n",
              "      fill: #D2E3FC;\n",
              "    }\n",
              "\n",
              "    [theme=dark] .colab-df-convert:hover {\n",
              "      background-color: #434B5C;\n",
              "      box-shadow: 0px 1px 3px 1px rgba(0, 0, 0, 0.15);\n",
              "      filter: drop-shadow(0px 1px 2px rgba(0, 0, 0, 0.3));\n",
              "      fill: #FFFFFF;\n",
              "    }\n",
              "  </style>\n",
              "\n",
              "    <script>\n",
              "      const buttonEl =\n",
              "        document.querySelector('#df-61a0dcc6-ff50-4cf2-9622-ba7b3198df1e button.colab-df-convert');\n",
              "      buttonEl.style.display =\n",
              "        google.colab.kernel.accessAllowed ? 'block' : 'none';\n",
              "\n",
              "      async function convertToInteractive(key) {\n",
              "        const element = document.querySelector('#df-61a0dcc6-ff50-4cf2-9622-ba7b3198df1e');\n",
              "        const dataTable =\n",
              "          await google.colab.kernel.invokeFunction('convertToInteractive',\n",
              "                                                    [key], {});\n",
              "        if (!dataTable) return;\n",
              "\n",
              "        const docLinkHtml = 'Like what you see? Visit the ' +\n",
              "          '<a target=\"_blank\" href=https://colab.research.google.com/notebooks/data_table.ipynb>data table notebook</a>'\n",
              "          + ' to learn more about interactive tables.';\n",
              "        element.innerHTML = '';\n",
              "        dataTable['output_type'] = 'display_data';\n",
              "        await google.colab.output.renderOutput(dataTable, element);\n",
              "        const docLink = document.createElement('div');\n",
              "        docLink.innerHTML = docLinkHtml;\n",
              "        element.appendChild(docLink);\n",
              "      }\n",
              "    </script>\n",
              "  </div>\n",
              "\n",
              "\n",
              "<div id=\"df-b3a7ce7a-99ee-4594-b0eb-03fd9acad517\">\n",
              "  <button class=\"colab-df-quickchart\" onclick=\"quickchart('df-b3a7ce7a-99ee-4594-b0eb-03fd9acad517')\"\n",
              "            title=\"Suggest charts\"\n",
              "            style=\"display:none;\">\n",
              "\n",
              "<svg xmlns=\"http://www.w3.org/2000/svg\" height=\"24px\"viewBox=\"0 0 24 24\"\n",
              "     width=\"24px\">\n",
              "    <g>\n",
              "        <path d=\"M19 3H5c-1.1 0-2 .9-2 2v14c0 1.1.9 2 2 2h14c1.1 0 2-.9 2-2V5c0-1.1-.9-2-2-2zM9 17H7v-7h2v7zm4 0h-2V7h2v10zm4 0h-2v-4h2v4z\"/>\n",
              "    </g>\n",
              "</svg>\n",
              "  </button>\n",
              "\n",
              "<style>\n",
              "  .colab-df-quickchart {\n",
              "      --bg-color: #E8F0FE;\n",
              "      --fill-color: #1967D2;\n",
              "      --hover-bg-color: #E2EBFA;\n",
              "      --hover-fill-color: #174EA6;\n",
              "      --disabled-fill-color: #AAA;\n",
              "      --disabled-bg-color: #DDD;\n",
              "  }\n",
              "\n",
              "  [theme=dark] .colab-df-quickchart {\n",
              "      --bg-color: #3B4455;\n",
              "      --fill-color: #D2E3FC;\n",
              "      --hover-bg-color: #434B5C;\n",
              "      --hover-fill-color: #FFFFFF;\n",
              "      --disabled-bg-color: #3B4455;\n",
              "      --disabled-fill-color: #666;\n",
              "  }\n",
              "\n",
              "  .colab-df-quickchart {\n",
              "    background-color: var(--bg-color);\n",
              "    border: none;\n",
              "    border-radius: 50%;\n",
              "    cursor: pointer;\n",
              "    display: none;\n",
              "    fill: var(--fill-color);\n",
              "    height: 32px;\n",
              "    padding: 0;\n",
              "    width: 32px;\n",
              "  }\n",
              "\n",
              "  .colab-df-quickchart:hover {\n",
              "    background-color: var(--hover-bg-color);\n",
              "    box-shadow: 0 1px 2px rgba(60, 64, 67, 0.3), 0 1px 3px 1px rgba(60, 64, 67, 0.15);\n",
              "    fill: var(--button-hover-fill-color);\n",
              "  }\n",
              "\n",
              "  .colab-df-quickchart-complete:disabled,\n",
              "  .colab-df-quickchart-complete:disabled:hover {\n",
              "    background-color: var(--disabled-bg-color);\n",
              "    fill: var(--disabled-fill-color);\n",
              "    box-shadow: none;\n",
              "  }\n",
              "\n",
              "  .colab-df-spinner {\n",
              "    border: 2px solid var(--fill-color);\n",
              "    border-color: transparent;\n",
              "    border-bottom-color: var(--fill-color);\n",
              "    animation:\n",
              "      spin 1s steps(1) infinite;\n",
              "  }\n",
              "\n",
              "  @keyframes spin {\n",
              "    0% {\n",
              "      border-color: transparent;\n",
              "      border-bottom-color: var(--fill-color);\n",
              "      border-left-color: var(--fill-color);\n",
              "    }\n",
              "    20% {\n",
              "      border-color: transparent;\n",
              "      border-left-color: var(--fill-color);\n",
              "      border-top-color: var(--fill-color);\n",
              "    }\n",
              "    30% {\n",
              "      border-color: transparent;\n",
              "      border-left-color: var(--fill-color);\n",
              "      border-top-color: var(--fill-color);\n",
              "      border-right-color: var(--fill-color);\n",
              "    }\n",
              "    40% {\n",
              "      border-color: transparent;\n",
              "      border-right-color: var(--fill-color);\n",
              "      border-top-color: var(--fill-color);\n",
              "    }\n",
              "    60% {\n",
              "      border-color: transparent;\n",
              "      border-right-color: var(--fill-color);\n",
              "    }\n",
              "    80% {\n",
              "      border-color: transparent;\n",
              "      border-right-color: var(--fill-color);\n",
              "      border-bottom-color: var(--fill-color);\n",
              "    }\n",
              "    90% {\n",
              "      border-color: transparent;\n",
              "      border-bottom-color: var(--fill-color);\n",
              "    }\n",
              "  }\n",
              "</style>\n",
              "\n",
              "  <script>\n",
              "    async function quickchart(key) {\n",
              "      const quickchartButtonEl =\n",
              "        document.querySelector('#' + key + ' button');\n",
              "      quickchartButtonEl.disabled = true;  // To prevent multiple clicks.\n",
              "      quickchartButtonEl.classList.add('colab-df-spinner');\n",
              "      try {\n",
              "        const charts = await google.colab.kernel.invokeFunction(\n",
              "            'suggestCharts', [key], {});\n",
              "      } catch (error) {\n",
              "        console.error('Error during call to suggestCharts:', error);\n",
              "      }\n",
              "      quickchartButtonEl.classList.remove('colab-df-spinner');\n",
              "      quickchartButtonEl.classList.add('colab-df-quickchart-complete');\n",
              "    }\n",
              "    (() => {\n",
              "      let quickchartButtonEl =\n",
              "        document.querySelector('#df-b3a7ce7a-99ee-4594-b0eb-03fd9acad517 button');\n",
              "      quickchartButtonEl.style.display =\n",
              "        google.colab.kernel.accessAllowed ? 'block' : 'none';\n",
              "    })();\n",
              "  </script>\n",
              "</div>\n",
              "\n",
              "  <div id=\"id_8fc88ef4-767c-465e-ab80-09b6023b7417\">\n",
              "    <style>\n",
              "      .colab-df-generate {\n",
              "        background-color: #E8F0FE;\n",
              "        border: none;\n",
              "        border-radius: 50%;\n",
              "        cursor: pointer;\n",
              "        display: none;\n",
              "        fill: #1967D2;\n",
              "        height: 32px;\n",
              "        padding: 0 0 0 0;\n",
              "        width: 32px;\n",
              "      }\n",
              "\n",
              "      .colab-df-generate:hover {\n",
              "        background-color: #E2EBFA;\n",
              "        box-shadow: 0px 1px 2px rgba(60, 64, 67, 0.3), 0px 1px 3px 1px rgba(60, 64, 67, 0.15);\n",
              "        fill: #174EA6;\n",
              "      }\n",
              "\n",
              "      [theme=dark] .colab-df-generate {\n",
              "        background-color: #3B4455;\n",
              "        fill: #D2E3FC;\n",
              "      }\n",
              "\n",
              "      [theme=dark] .colab-df-generate:hover {\n",
              "        background-color: #434B5C;\n",
              "        box-shadow: 0px 1px 3px 1px rgba(0, 0, 0, 0.15);\n",
              "        filter: drop-shadow(0px 1px 2px rgba(0, 0, 0, 0.3));\n",
              "        fill: #FFFFFF;\n",
              "      }\n",
              "    </style>\n",
              "    <button class=\"colab-df-generate\" onclick=\"generateWithVariable('errors')\"\n",
              "            title=\"Generate code using this dataframe.\"\n",
              "            style=\"display:none;\">\n",
              "\n",
              "  <svg xmlns=\"http://www.w3.org/2000/svg\" height=\"24px\"viewBox=\"0 0 24 24\"\n",
              "       width=\"24px\">\n",
              "    <path d=\"M7,19H8.4L18.45,9,17,7.55,7,17.6ZM5,21V16.75L18.45,3.32a2,2,0,0,1,2.83,0l1.4,1.43a1.91,1.91,0,0,1,.58,1.4,1.91,1.91,0,0,1-.58,1.4L9.25,21ZM18.45,9,17,7.55Zm-12,3A5.31,5.31,0,0,0,4.9,8.1,5.31,5.31,0,0,0,1,6.5,5.31,5.31,0,0,0,4.9,4.9,5.31,5.31,0,0,0,6.5,1,5.31,5.31,0,0,0,8.1,4.9,5.31,5.31,0,0,0,12,6.5,5.46,5.46,0,0,0,6.5,12Z\"/>\n",
              "  </svg>\n",
              "    </button>\n",
              "    <script>\n",
              "      (() => {\n",
              "      const buttonEl =\n",
              "        document.querySelector('#id_8fc88ef4-767c-465e-ab80-09b6023b7417 button.colab-df-generate');\n",
              "      buttonEl.style.display =\n",
              "        google.colab.kernel.accessAllowed ? 'block' : 'none';\n",
              "\n",
              "      buttonEl.onclick = () => {\n",
              "        google.colab.notebook.generateWithVariable('errors');\n",
              "      }\n",
              "      })();\n",
              "    </script>\n",
              "  </div>\n",
              "\n",
              "    </div>\n",
              "  </div>\n"
            ],
            "application/vnd.google.colaboratory.intrinsic+json": {
              "type": "dataframe",
              "variable_name": "errors",
              "summary": "{\n  \"name\": \"errors\",\n  \"rows\": 26,\n  \"fields\": [\n    {\n      \"column\": \"Age\",\n      \"properties\": {\n        \"dtype\": \"number\",\n        \"std\": 13.424432375910149,\n        \"min\": 2.0,\n        \"max\": 63.0,\n        \"num_unique_values\": 20,\n        \"samples\": [\n          48.0,\n          20.0,\n          44.0\n        ],\n        \"semantic_type\": \"\",\n        \"description\": \"\"\n      }\n    },\n    {\n      \"column\": \"Sex\",\n      \"properties\": {\n        \"dtype\": \"number\",\n        \"std\": 0,\n        \"min\": 0,\n        \"max\": 1,\n        \"num_unique_values\": 2,\n        \"samples\": [\n          1,\n          0\n        ],\n        \"semantic_type\": \"\",\n        \"description\": \"\"\n      }\n    },\n    {\n      \"column\": \"Pclass\",\n      \"properties\": {\n        \"dtype\": \"number\",\n        \"std\": 0,\n        \"min\": 1,\n        \"max\": 3,\n        \"num_unique_values\": 3,\n        \"samples\": [\n          1,\n          3\n        ],\n        \"semantic_type\": \"\",\n        \"description\": \"\"\n      }\n    },\n    {\n      \"column\": \"SibSp\",\n      \"properties\": {\n        \"dtype\": \"number\",\n        \"std\": 0,\n        \"min\": 0,\n        \"max\": 3,\n        \"num_unique_values\": 3,\n        \"samples\": [\n          1,\n          0\n        ],\n        \"semantic_type\": \"\",\n        \"description\": \"\"\n      }\n    },\n    {\n      \"column\": \"Predicciones\",\n      \"properties\": {\n        \"dtype\": \"number\",\n        \"std\": 0,\n        \"min\": 0,\n        \"max\": 1,\n        \"num_unique_values\": 2,\n        \"samples\": [\n          1,\n          0\n        ],\n        \"semantic_type\": \"\",\n        \"description\": \"\"\n      }\n    },\n    {\n      \"column\": \"Survived\",\n      \"properties\": {\n        \"dtype\": \"number\",\n        \"std\": 0,\n        \"min\": 0,\n        \"max\": 1,\n        \"num_unique_values\": 2,\n        \"samples\": [\n          0,\n          1\n        ],\n        \"semantic_type\": \"\",\n        \"description\": \"\"\n      }\n    }\n  ]\n}"
            }
          },
          "metadata": {},
          "execution_count": 158
        },
        {
          "output_type": "display_data",
          "data": {
            "text/plain": [
              "<Figure size 640x480 with 1 Axes>"
            ],
            "image/png": "[encoded data removed]"
          },
          "metadata": {}
        }
      ]
    },
    {
      "cell_type": "markdown",
      "source": [
        "## Iteraciones con semillas aleatorias para obtener el mejor modelo"
      ],
      "metadata": {
        "id": "MkpFJILz2D-r"
      }
    },
    {
      "cell_type": "code",
      "source": [
        "best_seed = None\n",
        "best_score = float(\"-inf\")\n",
        "seeds = [[np.random.randint(0, 2**32 - 1), np.random.randint(0, 2**32 - 1)] for _ in range(1000)]\n",
        "for seed in seeds:\n",
        "  train_x, test_x, train_y, test_y = train_test_split(oCleanData[[\"Age\", \"Sex\", \"Pclass\"]], oCleanData[\"Survived\"], test_size=0.3, random_state=seed[0])\n",
        "  model = LogisticRegression(random_state=seed[1])\n",
        "  model.fit(train_x, train_y)\n",
        "\n",
        "  model.score(test_x, test_y)\n",
        "  predicciones = model.predict(test_x)\n",
        "  score = f1_score(test_y, predicciones)\n",
        "  if score > best_score:\n",
        "    best_score = score\n",
        "    best_seed = seed\n",
        "\n",
        "print(\"Mejor semilla separacion\", best_seed[0])\n",
        "print(\"Mejor semilla entrenamiento\", best_seed[1])\n",
        "print(\"Mejor score\", best_score)"
      ],
      "metadata": {
        "colab": {
          "base_uri": "https://localhost:8080/"
        },
        "id": "R7TtRrS1zUbS",
        "outputId": "cdbd17fe-82ce-4b77-9197-729961cb07f6"
      },
      "execution_count": null,
      "outputs": [
        {
          "output_type": "stream",
          "name": "stdout",
          "text": [
            "Mejor semilla separacion 2101745991\n",
            "Mejor semilla entrenamiento 281054466\n",
            "Mejor score 0.8461538461538461\n"
          ]
        }
      ]
    },
    {
      "cell_type": "code",
      "source": [
        "test_data = pd.read_csv('/content/test.csv')\n",
        "test_data[\"Sex\"] = test_data[\"Sex\"].map({'female': 1, 'male': 0})\n",
        "test_data[\"Age\"] = test_data[\"Age\"].fillna(0)\n",
        "\n",
        "#predicciones = best_model.predict(test_data[[\"Age\", \"Sex\", \"Pclass\"]])\n",
        "#test_data[\"Survived\"] = predicciones\n",
        "#test_data[[\"PassengerId\", \"Survived\"]].to_csv(\"submission.csv\", index=False)"
      ],
      "metadata": {
        "id": "gmuUdx5uDOLL"
      },
      "execution_count": null,
      "outputs": []
    },
    {
      "cell_type": "markdown",
      "source": [
        "### Pruebas con redes neuronales"
      ],
      "metadata": {
        "id": "KnzexmC_wXcW"
      }
    },
    {
      "cell_type": "code",
      "source": [
        "nn = MLPClassifier(random_state=0, hidden_layer_sizes=(2),\n",
        "                   activation=\"logistic\", verbose = False, solver=\"adam\",\n",
        "                   learning_rate= \"constant\"\n",
        "                   )\n",
        "nn.fit(train_x, train_y)\n",
        "predicciones = nn.predict(test_x)\n",
        "print(\"F1 Score\", f1_score(test_y, predicciones))\n",
        "cm = confusion_matrix(test_y, predicciones)\n",
        "disp = ConfusionMatrixDisplay(confusion_matrix=cm)\n",
        "disp.plot()"
      ],
      "metadata": {
        "colab": {
          "base_uri": "https://localhost:8080/",
          "height": 164
        },
        "id": "4-bX2PrWwZZi",
        "outputId": "b5d10f40-9c01-4e11-ca0c-07547093588e"
      },
      "execution_count": null,
      "outputs": [
        {
          "output_type": "stream",
          "name": "stdout",
          "text": [
            "F1 Score 0.22429906542056077\n"
          ]
        },
        {
          "output_type": "stream",
          "name": "stderr",
          "text": [
            "/usr/local/lib/python3.10/dist-packages/sklearn/neural_network/_multilayer_perceptron.py:691: ConvergenceWarning: Stochastic Optimizer: Maximum iterations (200) reached and the optimization hasn't converged yet.\n",
            "  warnings.warn(\n"
          ]
        },
        {
          "output_type": "execute_result",
          "data": {
            "text/plain": [
              "<sklearn.metrics._plot.confusion_matrix.ConfusionMatrixDisplay at 0x7caf65552320>"
            ]
          },
          "metadata": {},
          "execution_count": 161
        },
        {
          "output_type": "display_data",
          "data": {
            "text/plain": [
              "<Figure size 640x480 with 2 Axes>"
            ],
            "image/png": "[encoded data removed]"
          },
          "metadata": {}
        }
      ]
    }
  ]
}