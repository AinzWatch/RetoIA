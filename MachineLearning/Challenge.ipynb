{
  "nbformat": 4,
  "nbformat_minor": 0,
  "metadata": {
    "colab": {
      "provenance": []
    },
    "kernelspec": {
      "name": "python3",
      "display_name": "Python 3"
    },
    "language_info": {
      "name": "python"
    }
  },
  "cells": [
    {
      "cell_type": "code",
      "execution_count": 2,
      "metadata": {
        "colab": {
          "base_uri": "https://localhost:8080/"
        },
        "id": "baJiI0ayMX1m",
        "outputId": "ec728df1-db82-4156-881b-04496adf5fdc"
      },
      "outputs": [
        {
          "output_type": "stream",
          "name": "stdout",
          "text": [
            "¿Qué DataFrame quieres usar? (df_Train o df_Test): df_Train\n",
            "Usando el DataFrame: df_Train\n",
            "    Celsius    Valks\n",
            "0   61.4720 -139.740\n",
            "1   70.5790 -156.600\n",
            "2   -7.3013   73.269\n",
            "3   71.3380 -165.420\n",
            "4   43.2360  -75.835\n",
            "..      ...      ...\n",
            "64  69.0900 -140.640\n",
            "65  75.9290 -166.940\n",
            "66  34.7220  -50.735\n",
            "67  -6.1376   69.075\n",
            "68  -5.0706   64.106\n",
            "\n",
            "[69 rows x 2 columns]\n"
          ]
        }
      ],
      "source": [
        "import pandas as pd\n",
        "\n",
        "df_Train = pd.read_csv('Valhalla70p.csv')\n",
        "df_Test = pd.read_csv('Valhalla30p.csv')\n",
        "\n",
        "# Preguntar al usuario qué DataFrame quiere usar\n",
        "df_elegido = input(\"¿Qué DataFrame quieres usar? (df_Train o df_Test): \")\n",
        "\n",
        "# Asignar el DataFrame elegido a la variable df\n",
        "if df_elegido == \"df_Train\":\n",
        "  df = df_Train\n",
        "elif df_elegido == \"df_Test\":\n",
        "  df = df_Test\n",
        "else:\n",
        "  print(\"Elección inválida. Usando df_Train por defecto.\")\n",
        "  df = df_Train\n",
        "\n",
        "print(\"Usando el DataFrame:\", df_elegido)\n",
        "\n",
        "print(df)"
      ]
    },
    {
      "cell_type": "code",
      "source": [
        "# Sacar las tablas de celsius y valks\n",
        "Celsius = df.iloc[:, 0]\n",
        "print(Celsius)\n",
        "Valks = df.iloc[:, 1]\n",
        "print(Valks)\n",
        "\n",
        "# Asignar los valores de las thetas\n",
        "theta0= 1\n",
        "theta1 = 1\n",
        "print(theta0, theta1)\n",
        "\n",
        "\n",
        "# Cargar el valor del learning rate (alpha)\n",
        "alpha = 0.0005\n",
        "print(alpha)"
      ],
      "metadata": {
        "colab": {
          "base_uri": "https://localhost:8080/"
        },
        "id": "Sv4NciX7NFDM",
        "outputId": "cb89f1c1-b128-44a1-c423-0a91fffa717d"
      },
      "execution_count": 3,
      "outputs": [
        {
          "output_type": "stream",
          "name": "stdout",
          "text": [
            "0     61.4720\n",
            "1     70.5790\n",
            "2     -7.3013\n",
            "3     71.3380\n",
            "4     43.2360\n",
            "       ...   \n",
            "64    69.0900\n",
            "65    75.9290\n",
            "66    34.7220\n",
            "67    -6.1376\n",
            "68    -5.0706\n",
            "Name: Celsius, Length: 69, dtype: float64\n",
            "0    -139.740\n",
            "1    -156.600\n",
            "2      73.269\n",
            "3    -165.420\n",
            "4     -75.835\n",
            "       ...   \n",
            "64   -140.640\n",
            "65   -166.940\n",
            "66    -50.735\n",
            "67     69.075\n",
            "68     64.106\n",
            "Name: Valks, Length: 69, dtype: float64\n",
            "1 1\n",
            "0.0005\n"
          ]
        }
      ]
    },
    {
      "cell_type": "code",
      "source": [
        "# Crear función lambda para la función de hipótesis\n",
        "\n",
        "h0 = lambda theta0, theta1, x : theta0 + theta1 * x\n",
        "\n",
        "# Calcular el total de muestras a partir de los datos (n)\n",
        "\n",
        "n = len(df)\n",
        "print(n)"
      ],
      "metadata": {
        "colab": {
          "base_uri": "https://localhost:8080/"
        },
        "id": "QP2e--jjWhWH",
        "outputId": "fb0342bf-f36a-4401-ec56-1d205ee9b74c"
      },
      "execution_count": 4,
      "outputs": [
        {
          "output_type": "stream",
          "name": "stdout",
          "text": [
            "69\n"
          ]
        }
      ]
    },
    {
      "cell_type": "code",
      "source": [
        "# Calcular delta para theta0 y para cada muestra\n",
        "\n",
        "delta = [h0(theta0, theta1, Celsius[i]) - Valks[i] for i in range(len(Celsius))]\n",
        "print(delta)\n",
        "\n",
        "# Calcular delta para theta1 y para cada muestra\n",
        "deltax = [delta[i] * Celsius[i] for i in range(len(Celsius)) ]\n",
        "print(deltax)\n",
        "\n",
        "# Calcular sumatorias y promedio\n",
        "\n",
        "sumdelta = sum(delta)\n",
        "sumdeltax = sum(deltax)\n",
        "print(sumdelta)\n",
        "print(sumdeltax)\n"
      ],
      "metadata": {
        "colab": {
          "base_uri": "https://localhost:8080/"
        },
        "id": "BNzPUTs6Wmj5",
        "outputId": "ea3d7f59-7857-4f40-96ee-47de4408b9b7"
      },
      "execution_count": 5,
      "outputs": [
        {
          "output_type": "stream",
          "name": "stdout",
          "text": [
            "[202.21200000000002, 228.17899999999997, -79.5703, 237.75799999999998, 120.071, -92.68299999999999, -15.8302, 90.79599999999999, 259.571, 260.949, -65.2117, 250.049, 252.54700000000003, 60.536, 203.518, -71.18140000000001, 36.058, 223.154, 178.21099999999998, 251.86899999999997, 128.131, -118.889, 207.933, 230.719, 154.124, 190.154, 166.263, 23.4059, 126.58, -60.3673, 156.305, -113.868, -17.7557, -112.481, -88.43, 186.076, 142.895, -3.433, 247.67200000000003, -115.299, 40.56, 21.036099999999998, 187.422, 172.27, -54.5887, 70.91, 49.067, 131.628, 146.716, 171.50900000000001, -16.4775, 144.228, 133.617, -63.352799999999995, -81.3472, 72.566, 263.064, 6.2745999999999995, 102.043, -38.7778, 156.217, -25.6885, 80.97, 159.498, 210.73, 243.869, 86.457, -74.21260000000001, -68.1766]\n",
            "[12430.376064000002, 16104.645640999997, 580.9666313900001, 16961.180203999997, 5191.389756, 949.630018, -124.26390396, 3149.531648, 19662.762821000004, 19959.728061, 276.4128327899999, 19268.525891, 19122.101199, 1727.576368, 12216.778504, 413.66358796000003, 799.6222079999999, 15972.024395999999, 10553.833630999998, 19129.198680999998, 5839.442194, 1953.2273809999997, 13497.554828999999, 16934.543881, 7378.532376, 10605.649196, 9030.242319, 449.93161569999995, 5765.46584, 173.93630149, 7909.814525, 1914.918156, -136.58217111000002, 1730.2952229999999, 909.6794100000002, 11601.094296, 7070.873285, -40.200430000000004, 18580.848784, 1908.7749450000001, 968.32944, 381.93143159999994, 10599.088944, 10253.510400000001, 71.65858649, 2054.6881599999997, 1205.0364530000002, 5874.689267999999, 7473.126176000001, 9513.432721000001, -125.27019374999999, 6918.617160000001, 6080.909669999999, 236.86344863999997, 658.92858944, 2165.079176, 19986.024336000002, 88.0891094, 3931.4106610000003, -92.33769736, 8611.774559000001, -141.53079075, 2477.35812, 7960.226184, 14559.3357, 18516.729301, 3001.959954, 455.48725376000004, 345.69626795999994]\n",
            "6088.766299999999\n",
            "461454.56858369015\n"
          ]
        }
      ]
    },
    {
      "cell_type": "code",
      "source": [
        "# Actualizar theta0\n",
        "theta0 = theta0 - alpha * sumdelta/n\n",
        "print(theta0)\n",
        "\n",
        "# Actualizar theta1\n",
        "theta1 = theta1 - alpha * sumdeltax/n\n",
        "print(theta1)"
      ],
      "metadata": {
        "colab": {
          "base_uri": "https://localhost:8080/"
        },
        "id": "LSQl-8cPdzE5",
        "outputId": "3d413b77-fc95-4177-8e65-1339bc15831a"
      },
      "execution_count": 6,
      "outputs": [
        {
          "output_type": "stream",
          "name": "stdout",
          "text": [
            "0.9558785050724637\n",
            "-2.343873685389059\n"
          ]
        }
      ]
    },
    {
      "cell_type": "code",
      "source": [
        "\n",
        "# Hacer 100 Iteraciones\n",
        "\n",
        "# Crear función lambda para la función de hipótesis\n",
        "for i in range(100):\n",
        "  h0 = lambda theta0, theta1, x : theta0 + theta1 * x\n",
        "  # Calcular el total de muestras a partir de los datos (n)\n",
        "  n = len(df)\n",
        "  # Calcular delta para theta0 y para cada muestra\n",
        "  delta = [h0(theta0, theta1, Celsius[i]) - Valks[i] for i in range(len(Celsius))]\n",
        "\n",
        "  # Calcular delta para theta1 y para cada muestra\n",
        "  deltax = [delta[i] * Celsius[i] for i in range(len(Celsius)) ]\n",
        "\n",
        "  # Calcular sumatorias y promedio\n",
        "\n",
        "  sumdelta = sum(delta)\n",
        "  sumdeltax = sum(deltax)\n",
        "\n",
        "  # Actualizar theta0\n",
        "  theta0 = theta0 - alpha * sumdelta/n\n",
        "\n",
        "  # Actualizar theta1\n",
        "  theta1 = theta1 - alpha * sumdeltax/n\n"
      ],
      "metadata": {
        "id": "JS7eHSkJtL3L"
      },
      "execution_count": 7,
      "outputs": []
    },
    {
      "cell_type": "code",
      "source": [
        "# Sacar los valores estimados\n",
        "Celsius2 = Celsius\n",
        "Valks2Estimado = h0(theta0, theta1, Celsius)\n",
        "print(Valks2Estimado)\n",
        "print(theta0, theta1)\n",
        "\n",
        "# Funcion de costo\n",
        "Costo = sum((Valks2Estimado - Valks)**2)/(2*n)\n",
        "print(Costo)\n"
      ],
      "metadata": {
        "colab": {
          "base_uri": "https://localhost:8080/"
        },
        "id": "okf95rmJjiem",
        "outputId": "68c16c16-56a8-4ecd-9d1a-fa7eebdbfcba"
      },
      "execution_count": 8,
      "outputs": [
        {
          "output_type": "stream",
          "name": "stdout",
          "text": [
            "0    -131.754865\n",
            "1    -151.571779\n",
            "2      17.896449\n",
            "3    -153.223369\n",
            "4     -92.073167\n",
            "         ...    \n",
            "64   -148.331701\n",
            "65   -163.213426\n",
            "66    -73.546627\n",
            "67     15.364227\n",
            "68     13.042426\n",
            "Name: Celsius, Length: 69, dtype: float64\n",
            "2.0087547904536716 -2.1760089192155965\n",
            "518.9862054503719\n"
          ]
        }
      ]
    },
    {
      "source": [
        "import matplotlib.pyplot as plt\n",
        "\n",
        "# Graficar datos originales\n",
        "plt.scatter(Celsius, Valks, label='Datos originales')\n",
        "\n",
        "# Graficar datos predichos (usando el nombre de la variable que ya tienes)\n",
        "plt.scatter(Celsius2, Valks2Estimado, color='red', label='Predicciones')\n",
        "\n",
        "# Etiquetas y leyenda\n",
        "plt.xlabel('Celsius')\n",
        "plt.ylabel('Valks')\n",
        "plt.legend()\n",
        "\n",
        "# Mostrar gráfica\n",
        "plt.show()\n",
        "\n",
        "\n",
        "\n"
      ],
      "cell_type": "code",
      "metadata": {
        "colab": {
          "base_uri": "https://localhost:8080/",
          "height": 449
        },
        "id": "Uw3SPiJkehHr",
        "outputId": "d2f8073c-a2fd-4512-8c7f-bacf381fc3f7"
      },
      "execution_count": 9,
      "outputs": [
        {
          "output_type": "display_data",
          "data": {
            "text/plain": [
              "<Figure size 640x480 with 1 Axes>"
            ],
            "image/png": "[encoded data removed]"
          },
          "metadata": {}
        }
      ]
    },
    {
      "cell_type": "code",
      "source": [
        "# Codigo para pasar el notebook a html\n",
        "import os\n",
        "from google.colab import drive\n",
        "drive.mount('/content/drive')\n",
        "# Listar archivos en el directorio MyDrive/Tarea\n",
        "os.listdir('/content/drive/MyDrive/Tarea')"
      ],
      "metadata": {
        "colab": {
          "base_uri": "https://localhost:8080/"
        },
        "id": "xzbnohsgLVvG",
        "outputId": "65a544c8-f14b-4ef2-83a8-9ad6867ef39d"
      },
      "execution_count": 10,
      "outputs": [
        {
          "output_type": "stream",
          "name": "stdout",
          "text": [
            "Drive already mounted at /content/drive; to attempt to forcibly remount, call drive.mount(\"/content/drive\", force_remount=True).\n"
          ]
        },
        {
          "output_type": "execute_result",
          "data": {
            "text/plain": [
              "['Challenge.html', 'Challenge.ipynb']"
            ]
          },
          "metadata": {},
          "execution_count": 10
        }
      ]
    },
    {
      "cell_type": "code",
      "source": [
        "!jupyter nbconvert --to html \"/content/drive/MyDrive/Tarea/Challenge.ipynb\""
      ],
      "metadata": {
        "colab": {
          "base_uri": "https://localhost:8080/"
        },
        "id": "58zI9LjjLNNr",
        "outputId": "e680d531-8c65-4fc0-9b56-1f78f70fe040"
      },
      "execution_count": 11,
      "outputs": [
        {
          "output_type": "stream",
          "name": "stdout",
          "text": [
            "[NbConvertApp] Converting notebook /content/drive/MyDrive/Tarea/Challenge.ipynb to html\n",
            "[NbConvertApp] Writing 593198 bytes to /content/drive/MyDrive/Tarea/Challenge.html\n"
          ]
        }
      ]
    }
  ]
}