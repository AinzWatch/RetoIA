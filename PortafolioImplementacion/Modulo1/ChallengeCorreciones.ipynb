{
  "nbformat": 4,
  "nbformat_minor": 0,
  "metadata": {
    "colab": {
      "provenance": []
    },
    "kernelspec": {
      "name": "python3",
      "display_name": "Python 3"
    },
    "language_info": {
      "name": "python"
    }
  },
  "cells": [
    {
      "cell_type": "code",
      "execution_count": 1,
      "metadata": {
        "id": "baJiI0ayMX1m"
      },
      "outputs": [],
      "source": [
        "import pandas as pd\n",
        "from sklearn.model_selection import train_test_split\n",
        "import matplotlib.pyplot as plt\n",
        "\n",
        "# Cargar datos\n",
        "df = pd.read_csv('Valhalla23.csv')\n",
        "celsius = df['Celsius']\n",
        "valks = df['Valks']\n",
        "\n",
        "# Dividir los datos en entrenamiento y prueba (80% entrenamiento, 20% prueba)\n",
        "train_df, test_df = train_test_split(df, test_size=0.2)\n",
        "\n",
        "# Separar características y etiquetas\n",
        "train_Celsius = train_df['Celsius']\n",
        "train_Valks = train_df['Valks']\n",
        "test_Celsius = test_df['Celsius']\n",
        "test_Valks = test_df['Valks']"
      ]
    },
    {
      "cell_type": "code",
      "source": [
        "# Sacar las tablas de celsius y valks\n",
        "Celsius = df.iloc[:, 0]\n",
        "print(Celsius)\n",
        "Valks = df.iloc[:, 1]\n",
        "print(Valks)\n",
        "\n",
        "# Asignar los valores de las thetas\n",
        "theta0= 1\n",
        "theta1 = 1\n",
        "print(theta0, theta1)\n",
        "\n",
        "\n",
        "# Cargar el valor del learning rate (alpha)\n",
        "alpha = 0.0005\n",
        "print(alpha)"
      ],
      "metadata": {
        "colab": {
          "base_uri": "https://localhost:8080/"
        },
        "id": "Sv4NciX7NFDM",
        "outputId": "e74d1b69-4b84-4d19-c86c-cb657aa6da5d"
      },
      "execution_count": 2,
      "outputs": [
        {
          "output_type": "stream",
          "name": "stdout",
          "text": [
            "0     61.4720\n",
            "1     70.5790\n",
            "2     -7.3013\n",
            "3     71.3380\n",
            "4     43.2360\n",
            "       ...   \n",
            "95    -7.0094\n",
            "96    36.8820\n",
            "97    26.9390\n",
            "98   -18.8100\n",
            "99    13.7120\n",
            "Name: Celsius, Length: 100, dtype: float64\n",
            "0    -139.7400\n",
            "1    -156.6000\n",
            "2      73.2690\n",
            "3    -165.4200\n",
            "4     -75.8350\n",
            "        ...   \n",
            "95     69.6320\n",
            "96    -71.2400\n",
            "97    -34.2550\n",
            "98    106.4300\n",
            "99      9.1011\n",
            "Name: Valks, Length: 100, dtype: float64\n",
            "1 1\n",
            "0.0005\n"
          ]
        }
      ]
    },
    {
      "cell_type": "code",
      "source": [
        "# Crear función lambda para la función de hipótesis\n",
        "\n",
        "h0 = lambda theta0, theta1, x : theta0 + theta1 * x\n",
        "\n",
        "# Número de muestras en el conjunto de entrenamiento\n",
        "n = len(train_Celsius)"
      ],
      "metadata": {
        "id": "QP2e--jjWhWH"
      },
      "execution_count": 3,
      "outputs": []
    },
    {
      "cell_type": "code",
      "source": [
        "# Calcular delta para theta0\n",
        "delta = [h0(theta0, theta1, train_Celsius.iloc[i]) - train_Valks.iloc[i] for i in range(len(train_Celsius))]\n",
        "print(delta)\n",
        "\n",
        "# Calcular delta para theta1\n",
        "deltax = [delta[i] * train_Celsius.iloc[i] for i in range(n)]\n",
        "print(deltax)\n",
        "\n",
        "# Calcular sumatorias y promedio\n",
        "sumdelta = sum(delta)\n",
        "sumdeltax = sum(deltax)\n",
        "print(sumdelta)\n",
        "print(sumdeltax)\n"
      ],
      "metadata": {
        "colab": {
          "base_uri": "https://localhost:8080/"
        },
        "id": "BNzPUTs6Wmj5",
        "outputId": "319db35c-86da-4359-92a4-65ce112e523c"
      },
      "execution_count": 4,
      "outputs": [
        {
          "output_type": "stream",
          "name": "stdout",
          "text": [
            "[55.361000000000004, -30.8615, 40.56, 62.194, 86.457, -16.4775, 142.895, 166.287, 184.433, 72.566, 133.617, -81.3472, -25.6885, -71.18140000000001, 212.573, -79.5703, 260.949, 49.067, 122.379, 154.124, 70.91, 244.161, 99.822, -105.141, 223.154, -25.233200000000004, 202.21200000000002, 90.468, -88.43, -113.868, 263.064, 144.228, 252.54700000000003, 186.076, -115.299, 23.4059, -54.5887, -14.098099999999999, 228.17899999999997, 36.058, 6.2745999999999995, -63.352799999999995, 207.933, -92.68299999999999, 166.263, -65.2117, 5.610899999999999, 255.289, 128.131, 203.518, 243.869, 156.217, 159.498, -68.1766, 90.79599999999999, 109.12199999999999, 210.73, 237.75799999999998, 172.27, -60.3673, -15.8302, 102.043, -75.6414, 21.036099999999998, 190.154, 90.991, 247.67200000000003, -118.889, -74.21260000000001, -96.297, 26.486200000000004, 187.422, 131.628, -124.24000000000001, 7.392000000000001, 259.571, 120.071, -26.786800000000003, 192.172, 196.498]\n",
            "[1512.9607690000003, -134.32467875, 968.32944, 1675.444166, 3001.959954, -125.27019374999999, 7070.873285, 9630.844179, 10212.608509, 2165.079176, 6080.909669999999, 658.92858944, -141.53079075, 413.66358796000003, 13409.742559, 580.9666313900001, 19959.728061, 1205.0364530000002, 5091.455916, 7378.532376, 2054.6881599999997, 17921.661561, 3671.652804, 1535.584305, 15972.024395999999, -145.11108656000002, 12430.376064000002, 3163.846896, 909.6794100000002, 1914.918156, 19986.024336000002, 6918.617160000001, 19122.101199, 11601.094296, 1908.7749450000001, 449.93161569999995, 71.65858649, -121.01668058999999, 16104.645640999997, 799.6222079999999, 88.0891094, 236.86344863999997, 13497.554828999999, 949.630018, 9030.242319, 276.4128327899999, 76.93666079999998, 18309.071791, 5839.442194, 12216.778504, 18516.729301, 8611.774559000001, 7960.226184, 345.69626795999994, 3149.531648, 4024.637603999999, 14559.3357, 16961.180203999997, 10253.510400000001, 173.93630149, -124.26390396, 3931.4106610000003, 530.20082916, 381.93143159999994, 10605.649196, 3009.9822799999997, 18580.848784, 1953.2273809999997, 455.48725376000004, 1195.527255, 477.94347900000014, 10599.088944, 5874.689267999999, 2336.9544, 112.10707200000002, 19662.762821000004, 5191.389756, -145.40410776000002, 12312.844384, 12070.479143999999]\n",
            "6230.6899\n",
            "480977.1478344602\n"
          ]
        }
      ]
    },
    {
      "cell_type": "code",
      "source": [
        "# Actualizar theta0\n",
        "theta0 = theta0 - alpha * sumdelta/n\n",
        "print(theta0)\n",
        "\n",
        "# Actualizar theta1\n",
        "theta1 = theta1 - alpha * sumdeltax/n\n",
        "print(theta1)"
      ],
      "metadata": {
        "colab": {
          "base_uri": "https://localhost:8080/"
        },
        "id": "LSQl-8cPdzE5",
        "outputId": "84709658-354d-4489-f0c9-b32a541bbdbc"
      },
      "execution_count": 5,
      "outputs": [
        {
          "output_type": "stream",
          "name": "stdout",
          "text": [
            "0.961058188125\n",
            "-2.0061071739653764\n"
          ]
        }
      ]
    },
    {
      "cell_type": "code",
      "source": [
        "# Hacer 100 Iteraciones\n",
        "\n",
        "for i in range(100):\n",
        "  # No need to redefine h0 in each iteration\n",
        "  # h0 = lambda theta0, theta1, x : theta0 + theta1 * x\n",
        "\n",
        "  # Calculate the number of samples from the training data\n",
        "  n = len(train_Celsius)  # Use len(train_Celsius) instead of len(df)\n",
        "\n",
        "  # Calculate delta for theta0 for each sample\n",
        "  delta = [h0(theta0, theta1, train_Celsius.iloc[i]) - train_Valks.iloc[i] for i in range(n)]\n",
        "\n",
        "  # Calculate delta for theta1 for each sample\n",
        "  deltax = [delta[i] * train_Celsius.iloc[i] for i in range(n)]\n",
        "\n",
        "  # Calculate sums and averages\n",
        "  sumdelta = sum(delta)\n",
        "  sumdeltax = sum(deltax)\n",
        "\n",
        "  # Update theta0\n",
        "  theta0 = theta0 - alpha * sumdelta/n\n",
        "\n",
        "  # Update theta1\n",
        "  theta1 = theta1 - alpha * sumdeltax/n"
      ],
      "metadata": {
        "id": "JS7eHSkJtL3L"
      },
      "execution_count": 6,
      "outputs": []
    },
    {
      "cell_type": "code",
      "source": [
        "# Usar el modelo entrenado para predecir los valores en el conjunto de prueba\n",
        "test_Valks2Estimado = [h0(theta0, theta1, x) for x in test_Celsius]\n",
        "\n",
        "# Calcular la función de costo en el conjunto de prueba\n",
        "test_n = len(test_Celsius)\n",
        "test_Costo = sum((test_Valks2Estimado[i] - test_Valks.iloc[i])**2 for i in range(test_n)) / (2 * test_n)\n",
        "print(test_Costo)\n",
        "\n"
      ],
      "metadata": {
        "colab": {
          "base_uri": "https://localhost:8080/"
        },
        "id": "okf95rmJjiem",
        "outputId": "cd9b6213-d708-4e2e-d88f-faeb28f6bf4d"
      },
      "execution_count": 7,
      "outputs": [
        {
          "output_type": "stream",
          "name": "stdout",
          "text": [
            "428.57270476961355\n"
          ]
        }
      ]
    },
    {
      "source": [
        "# Graficar datos originales del conjunto de prueba\n",
        "plt.scatter(test_Celsius, test_Valks, label='Datos originales')\n",
        "\n",
        "# Graficar datos predichos\n",
        "plt.scatter(test_Celsius, test_Valks2Estimado, color='red', label='Predicciones')\n",
        "\n",
        "# Etiquetas y leyenda\n",
        "plt.xlabel('Celsius')\n",
        "plt.ylabel('Valks')\n",
        "plt.legend()\n",
        "\n",
        "# Mostrar gráfica\n",
        "plt.show()\n"
      ],
      "cell_type": "code",
      "metadata": {
        "colab": {
          "base_uri": "https://localhost:8080/",
          "height": 449
        },
        "id": "Uw3SPiJkehHr",
        "outputId": "c6ce30b4-5ea8-4832-b0ee-fa29f63fb8f6"
      },
      "execution_count": 8,
      "outputs": [
        {
          "output_type": "display_data",
          "data": {
            "text/plain": [
              "<Figure size 640x480 with 1 Axes>"
            ],
            "image/png": "[encoded data removed]"
          },
          "metadata": {}
        }
      ]
    },
    {
      "cell_type": "code",
      "source": [
        "# Codigo para pasar el notebook a html\n",
        "import os\n",
        "from google.colab import drive\n",
        "drive.mount('/content/drive')\n",
        "# Listar archivos en el directorio MyDrive/Tarea\n",
        "os.listdir('/content/drive/MyDrive/Tarea')"
      ],
      "metadata": {
        "colab": {
          "base_uri": "https://localhost:8080/"
        },
        "id": "xzbnohsgLVvG",
        "outputId": "6a9a478a-efa7-4b65-dac7-02524dd0a167"
      },
      "execution_count": 9,
      "outputs": [
        {
          "output_type": "stream",
          "name": "stdout",
          "text": [
            "Mounted at /content/drive\n"
          ]
        },
        {
          "output_type": "execute_result",
          "data": {
            "text/plain": [
              "['Challenge.html',\n",
              " 'Challenge.gdoc',\n",
              " 'Challenge2Framework.html',\n",
              " 'Challenge2Framework.ipynb',\n",
              " 'Challenge2Framework.gdoc',\n",
              " 'LaboratorioFramework.html',\n",
              " 'LaboratorioFramework.ipynb',\n",
              " 'LaboratorioFramework (1).gdoc',\n",
              " 'LaboratorioFramework.gdoc',\n",
              " 'Challenge.ipynb']"
            ]
          },
          "metadata": {},
          "execution_count": 9
        }
      ]
    },
    {
      "cell_type": "code",
      "source": [
        "!jupyter nbconvert --to html \"/content/drive/MyDrive/Tarea/Challenge.ipynb\""
      ],
      "metadata": {
        "id": "58zI9LjjLNNr",
        "colab": {
          "base_uri": "https://localhost:8080/"
        },
        "outputId": "6d5a8524-b7d9-4816-90c5-17aceb540387"
      },
      "execution_count": 10,
      "outputs": [
        {
          "output_type": "stream",
          "name": "stdout",
          "text": [
            "[NbConvertApp] Converting notebook /content/drive/MyDrive/Tarea/Challenge.ipynb to html\n",
            "[NbConvertApp] Writing 631876 bytes to /content/drive/MyDrive/Tarea/Challenge.html\n"
          ]
        }
      ]
    },
    {
      "cell_type": "markdown",
      "source": [
        "## Cometarios del profe\n",
        "\n",
        "- Entregar el readme correctamente\n",
        "- Entrenar sobre train y probar en test"
      ],
      "metadata": {
        "id": "oF4YXXMes6Bs"
      }
    }
  ]
}