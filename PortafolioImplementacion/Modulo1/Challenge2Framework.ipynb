{
  "nbformat": 4,
  "nbformat_minor": 0,
  "metadata": {
    "colab": {
      "provenance": []
    },
    "kernelspec": {
      "name": "python3",
      "display_name": "Python 3"
    },
    "language_info": {
      "name": "python"
    }
  },
  "cells": [
    {
      "cell_type": "markdown",
      "source": [
        "## Template para uso de framework (scikit-learn)\n",
        "En términos generales, debemos seguir los siguientes pasos:\n",
        "1. Importar módulos\n",
        "2. Cargar datos\n",
        "3. Separar datos en subconjuntos\n",
        "4. Entrenar el modelo\n",
        "5. Analizar su desempeño\n",
        "6. Usar el modelo para nuevas estimaciones (datos no vistos)\n"
      ],
      "metadata": {
        "id": "TmbsZm8laJv5"
      }
    },
    {
      "cell_type": "code",
      "execution_count": 31,
      "metadata": {
        "id": "Hp0OdQCAZ6qV"
      },
      "outputs": [],
      "source": [
        "# Importar módulos\n",
        "import pandas as pd\n",
        "import matplotlib.pyplot as plt\n",
        "import sklearn.linear_model as lm\n",
        "import sklearn.model_selection as ms\n",
        "import sklearn.metrics as mt\n",
        "from sklearn.metrics import mean_squared_error\n",
        "\n",
        "# Cargar datos\n",
        "df = pd.read_csv('Valhalla23.csv')\n",
        "celsius = df['Celsius']\n",
        "valks = df['Valks']"
      ]
    },
    {
      "cell_type": "code",
      "source": [
        "# Separar datos en subconjuntos (usando train_test_split)\n",
        "train_x, test_x, train_y, test_y = ms.train_test_split(celsius, valks, test_size=0.2)\n",
        "\n",
        "train_x = train_x.values.reshape(-1, 1)\n",
        "test_x = test_x.values.reshape(-1, 1)\n",
        "\n",
        "# Entrenar el modelo\n",
        "# --- Crear objeto del modelo\n",
        "#modelo = lm.LinearRegression()\n",
        "modelo = lm.SGDRegressor(eta0=0.002, max_iter=15000) # Se escojieron esos numero de iteraciones y de eta porque esran los que mejor le quedaban al modelo\n",
        "# --- Usar método fit para ajustar el modelo a los datos de entrenamiento\n",
        "modelo.fit(train_x, train_y)"
      ],
      "metadata": {
        "id": "UKJYgRXJfz9n",
        "colab": {
          "base_uri": "https://localhost:8080/",
          "height": 75
        },
        "outputId": "a0a8d982-aae6-4ca9-ecf8-5f4195582298"
      },
      "execution_count": 32,
      "outputs": [
        {
          "output_type": "execute_result",
          "data": {
            "text/plain": [
              "SGDRegressor(eta0=0.002, max_iter=15000)"
            ],
            "text/html": [
              "<style>#sk-container-id-7 {color: black;}#sk-container-id-7 pre{padding: 0;}#sk-container-id-7 div.sk-toggleable {background-color: white;}#sk-container-id-7 label.sk-toggleable__label {cursor: pointer;display: block;width: 100%;margin-bottom: 0;padding: 0.3em;box-sizing: border-box;text-align: center;}#sk-container-id-7 label.sk-toggleable__label-arrow:before {content: \"▸\";float: left;margin-right: 0.25em;color: #696969;}#sk-container-id-7 label.sk-toggleable__label-arrow:hover:before {color: black;}#sk-container-id-7 div.sk-estimator:hover label.sk-toggleable__label-arrow:before {color: black;}#sk-container-id-7 div.sk-toggleable__content {max-height: 0;max-width: 0;overflow: hidden;text-align: left;background-color: #f0f8ff;}#sk-container-id-7 div.sk-toggleable__content pre {margin: 0.2em;color: black;border-radius: 0.25em;background-color: #f0f8ff;}#sk-container-id-7 input.sk-toggleable__control:checked~div.sk-toggleable__content {max-height: 200px;max-width: 100%;overflow: auto;}#sk-container-id-7 input.sk-toggleable__control:checked~label.sk-toggleable__label-arrow:before {content: \"▾\";}#sk-container-id-7 div.sk-estimator input.sk-toggleable__control:checked~label.sk-toggleable__label {background-color: #d4ebff;}#sk-container-id-7 div.sk-label input.sk-toggleable__control:checked~label.sk-toggleable__label {background-color: #d4ebff;}#sk-container-id-7 input.sk-hidden--visually {border: 0;clip: rect(1px 1px 1px 1px);clip: rect(1px, 1px, 1px, 1px);height: 1px;margin: -1px;overflow: hidden;padding: 0;position: absolute;width: 1px;}#sk-container-id-7 div.sk-estimator {font-family: monospace;background-color: #f0f8ff;border: 1px dotted black;border-radius: 0.25em;box-sizing: border-box;margin-bottom: 0.5em;}#sk-container-id-7 div.sk-estimator:hover {background-color: #d4ebff;}#sk-container-id-7 div.sk-parallel-item::after {content: \"\";width: 100%;border-bottom: 1px solid gray;flex-grow: 1;}#sk-container-id-7 div.sk-label:hover label.sk-toggleable__label {background-color: #d4ebff;}#sk-container-id-7 div.sk-serial::before {content: \"\";position: absolute;border-left: 1px solid gray;box-sizing: border-box;top: 0;bottom: 0;left: 50%;z-index: 0;}#sk-container-id-7 div.sk-serial {display: flex;flex-direction: column;align-items: center;background-color: white;padding-right: 0.2em;padding-left: 0.2em;position: relative;}#sk-container-id-7 div.sk-item {position: relative;z-index: 1;}#sk-container-id-7 div.sk-parallel {display: flex;align-items: stretch;justify-content: center;background-color: white;position: relative;}#sk-container-id-7 div.sk-item::before, #sk-container-id-7 div.sk-parallel-item::before {content: \"\";position: absolute;border-left: 1px solid gray;box-sizing: border-box;top: 0;bottom: 0;left: 50%;z-index: -1;}#sk-container-id-7 div.sk-parallel-item {display: flex;flex-direction: column;z-index: 1;position: relative;background-color: white;}#sk-container-id-7 div.sk-parallel-item:first-child::after {align-self: flex-end;width: 50%;}#sk-container-id-7 div.sk-parallel-item:last-child::after {align-self: flex-start;width: 50%;}#sk-container-id-7 div.sk-parallel-item:only-child::after {width: 0;}#sk-container-id-7 div.sk-dashed-wrapped {border: 1px dashed gray;margin: 0 0.4em 0.5em 0.4em;box-sizing: border-box;padding-bottom: 0.4em;background-color: white;}#sk-container-id-7 div.sk-label label {font-family: monospace;font-weight: bold;display: inline-block;line-height: 1.2em;}#sk-container-id-7 div.sk-label-container {text-align: center;}#sk-container-id-7 div.sk-container {/* jupyter's `normalize.less` sets `[hidden] { display: none; }` but bootstrap.min.css set `[hidden] { display: none !important; }` so we also need the `!important` here to be able to override the default hidden behavior on the sphinx rendered scikit-learn.org. See: https://github.com/scikit-learn/scikit-learn/issues/21755 */display: inline-block !important;position: relative;}#sk-container-id-7 div.sk-text-repr-fallback {display: none;}</style><div id=\"sk-container-id-7\" class=\"sk-top-container\"><div class=\"sk-text-repr-fallback\"><pre>SGDRegressor(eta0=0.002, max_iter=15000)</pre><b>In a Jupyter environment, please rerun this cell to show the HTML representation or trust the notebook. <br />On GitHub, the HTML representation is unable to render, please try loading this page with nbviewer.org.</b></div><div class=\"sk-container\" hidden><div class=\"sk-item\"><div class=\"sk-estimator sk-toggleable\"><input class=\"sk-toggleable__control sk-hidden--visually\" id=\"sk-estimator-id-7\" type=\"checkbox\" checked><label for=\"sk-estimator-id-7\" class=\"sk-toggleable__label sk-toggleable__label-arrow\">SGDRegressor</label><div class=\"sk-toggleable__content\"><pre>SGDRegressor(eta0=0.002, max_iter=15000)</pre></div></div></div></div></div>"
            ]
          },
          "metadata": {},
          "execution_count": 32
        }
      ]
    },
    {
      "cell_type": "code",
      "source": [
        "# Analizar desempeño\n",
        "score = modelo.score(test_x, test_y)\n",
        "predicciones = modelo.predict(test_x)\n",
        "mse = mt.mean_squared_error(test_y, predicciones)\n",
        "print(\"Score:\", score)\n",
        "print(\"Mean Squared Error:\", mse)"
      ],
      "metadata": {
        "id": "Cj00mWLAhMHP",
        "colab": {
          "base_uri": "https://localhost:8080/"
        },
        "outputId": "abc101bb-8de8-4d2d-ce7a-f522069cf172"
      },
      "execution_count": 33,
      "outputs": [
        {
          "output_type": "stream",
          "name": "stdout",
          "text": [
            "Score: 0.979280583767932\n",
            "Mean Squared Error: 157.00720731174232\n"
          ]
        }
      ]
    },
    {
      "cell_type": "code",
      "source": [
        "# Graficar los datos\n",
        "plt.scatter(train_x, train_y, color='blue')\n",
        "plt.scatter(test_x, test_y, color='green')\n",
        "plt.plot(test_x, predicciones, color='red')\n",
        "plt.show()"
      ],
      "metadata": {
        "id": "Y7HlAJ8iiPq1",
        "colab": {
          "base_uri": "https://localhost:8080/",
          "height": 430
        },
        "outputId": "c58064e4-d3e7-4587-c366-8bdbf47667e6"
      },
      "execution_count": 34,
      "outputs": [
        {
          "output_type": "display_data",
          "data": {
            "text/plain": [
              "<Figure size 640x480 with 1 Axes>"
            ],
            "image/png": "[encoded data removed]"
          },
          "metadata": {}
        }
      ]
    },
    {
      "cell_type": "code",
      "source": [
        "# Codigo para pasar el notebook a html\n",
        "import os\n",
        "from google.colab import drive\n",
        "drive.mount('/content/drive')\n",
        "# Listar archivos en el directorio MyDrive/Tarea\n",
        "os.listdir('/content/drive/MyDrive/Tarea')"
      ],
      "metadata": {
        "id": "fpnonHu4DhVm",
        "colab": {
          "base_uri": "https://localhost:8080/"
        },
        "outputId": "5cc90c84-03f8-416c-d5d4-e566ebbf69dc"
      },
      "execution_count": 41,
      "outputs": [
        {
          "output_type": "stream",
          "name": "stdout",
          "text": [
            "Drive already mounted at /content/drive; to attempt to forcibly remount, call drive.mount(\"/content/drive\", force_remount=True).\n"
          ]
        },
        {
          "output_type": "execute_result",
          "data": {
            "text/plain": [
              "['Challenge.html', 'Challenge.gdoc', 'Challenge.ipynb']"
            ]
          },
          "metadata": {},
          "execution_count": 41
        }
      ]
    },
    {
      "cell_type": "code",
      "source": [
        "!jupyter nbconvert --to html \"/content/drive/MyDrive/Tarea/Challenge2Framework.ipynb\""
      ],
      "metadata": {
        "id": "19L6kL6-DjT5",
        "colab": {
          "base_uri": "https://localhost:8080/"
        },
        "outputId": "44c7d1d8-1d8d-495f-f588-1e502517dcf1"
      },
      "execution_count": 46,
      "outputs": [
        {
          "output_type": "stream",
          "name": "stdout",
          "text": [
            "[NbConvertApp] Converting notebook /content/drive/MyDrive/Tarea/Challenge2Framework.ipynb to html\n",
            "[NbConvertApp] Writing 629236 bytes to /content/drive/MyDrive/Tarea/Challenge2Framework.html\n"
          ]
        }
      ]
    }
  ]
}